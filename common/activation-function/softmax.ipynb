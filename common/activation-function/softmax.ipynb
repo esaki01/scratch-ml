{
 "cells": [
  {
   "cell_type": "markdown",
   "metadata": {},
   "source": [
    "# ソフトマックス関数（Softmax Function）"
   ]
  },
  {
   "cell_type": "markdown",
   "metadata": {},
   "source": [
    "$$\n",
    "softmax_k(a) = \\frac{exp(a_k)}{\\sum_{i=1}^n exp(a_i)}\n",
    "$$"
   ]
  },
  {
   "cell_type": "code",
   "execution_count": 1,
   "metadata": {},
   "outputs": [],
   "source": [
    "import numpy as np\n",
    "\n",
    "def softmax(a):\n",
    "    \"\"\"Softmax function.\n",
    "    \n",
    "    a: input data\n",
    "    \"\"\"\n",
    "    # Prevent overflow\n",
    "    exp_a = np.exp(a - np.max(a))\n",
    "    sum_exp_a = np.sum(exp_a)\n",
    "    return exp_a / sum_exp_a"
   ]
  },
  {
   "cell_type": "code",
   "execution_count": 2,
   "metadata": {},
   "outputs": [],
   "source": [
    "# NumPy配列に対応させる\n",
    "def softmax(x):\n",
    "    \"\"\"Softmax function.\n",
    "    \n",
    "    x: input data\n",
    "    \"\"\"\n",
    "    if x.ndim == 2:\n",
    "        x = x.T - np.max(x.T, axis=0)\n",
    "        return (np.exp(x) / np.sum(np.exp(x), axis=0)).T\n",
    "\n",
    "    # Prevent overflow\n",
    "    x = x - np.max(x)\n",
    "    return np.exp(x) / np.sum(np.exp(x))"
   ]
  }
 ],
 "metadata": {
  "kernelspec": {
   "display_name": "Python 3",
   "language": "python",
   "name": "python3"
  },
  "language_info": {
   "codemirror_mode": {
    "name": "ipython",
    "version": 3
   },
   "file_extension": ".py",
   "mimetype": "text/x-python",
   "name": "python",
   "nbconvert_exporter": "python",
   "pygments_lexer": "ipython3",
   "version": "3.6.4"
  }
 },
 "nbformat": 4,
 "nbformat_minor": 2
}
