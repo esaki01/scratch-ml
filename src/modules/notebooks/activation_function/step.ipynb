{
 "cells": [
  {
   "cell_type": "markdown",
   "metadata": {},
   "source": [
    "# ステップ関数（Step Function）"
   ]
  },
  {
   "cell_type": "markdown",
   "metadata": {},
   "source": [
    "$$ \n",
    "step(x) =\n",
    "\\left\\{\n",
    "\\begin{array}{ll}\n",
    "0 & (x \\leqq 0) \\\\\n",
    "1 & (x \\gt 0)\n",
    "\\end{array}\n",
    "\\right.\n",
    "$$"
   ]
  },
  {
   "cell_type": "code",
   "execution_count": 1,
   "metadata": {},
   "outputs": [],
   "source": [
    "import numpy as np\n",
    "\n",
    "\n",
    "def step(x):\n",
    "    \"\"\"Step function.\n",
    "    \n",
    "    x: input data\n",
    "    \"\"\"\n",
    "    return np.array(x > 0, dtype=np.int)\n",
    "\n",
    "#     y = x > 0 # y = array([False, True, True]) if x = np.array([-1.0, 1.0, 2.0])\n",
    "#     return y.astype(np.int) # array([0, 1, 1])\n"
   ]
  },
  {
   "cell_type": "code",
   "execution_count": 2,
   "metadata": {},
   "outputs": [
    {
     "data": {
      "image/png": "[encoded data removed]",
      "text/plain": [
       "<Figure size 432x288 with 1 Axes>"
      ]
     },
     "metadata": {
      "needs_background": "light"
     },
     "output_type": "display_data"
    }
   ],
   "source": [
    "%matplotlib inline\n",
    "import matplotlib.pyplot as plt\n",
    "\n",
    "x = np.arange(-5.0, 5.0, 0.1)\n",
    "y = step(x)\n",
    "plt.plot(x, y)\n",
    "plt.title('Step function')\n",
    "plt.ylim(-0.1, 1.1)\n",
    "plt.show()\n"
   ]
  }
 ],
 "metadata": {
  "kernelspec": {
   "display_name": "Python 3",
   "language": "python",
   "name": "python3"
  },
  "language_info": {
   "codemirror_mode": {
    "name": "ipython",
    "version": 3
   },
   "file_extension": ".py",
   "mimetype": "text/x-python",
   "name": "python",
   "nbconvert_exporter": "python",
   "pygments_lexer": "ipython3",
   "version": "3.7.7"
  }
 },
 "nbformat": 4,
 "nbformat_minor": 2
}
