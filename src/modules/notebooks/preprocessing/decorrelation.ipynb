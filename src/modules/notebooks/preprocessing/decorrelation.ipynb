{
 "cells": [
  {
   "cell_type": "markdown",
   "metadata": {},
   "source": [
    "# Irisデータセットの取得"
   ]
  },
  {
   "cell_type": "code",
   "execution_count": 1,
   "metadata": {},
   "outputs": [
    {
     "data": {
      "text/html": [
       "<div>\n",
       "<style scoped>\n",
       "    .dataframe tbody tr th:only-of-type {\n",
       "        vertical-align: middle;\n",
       "    }\n",
       "\n",
       "    .dataframe tbody tr th {\n",
       "        vertical-align: top;\n",
       "    }\n",
       "\n",
       "    .dataframe thead th {\n",
       "        text-align: right;\n",
       "    }\n",
       "</style>\n",
       "<table border=\"1\" class=\"dataframe\">\n",
       "  <thead>\n",
       "    <tr style=\"text-align: right;\">\n",
       "      <th></th>\n",
       "      <th>petal length (cm)</th>\n",
       "      <th>petal width (cm)</th>\n",
       "    </tr>\n",
       "  </thead>\n",
       "  <tbody>\n",
       "    <tr>\n",
       "      <th>0</th>\n",
       "      <td>1.4</td>\n",
       "      <td>0.2</td>\n",
       "    </tr>\n",
       "    <tr>\n",
       "      <th>1</th>\n",
       "      <td>1.4</td>\n",
       "      <td>0.2</td>\n",
       "    </tr>\n",
       "    <tr>\n",
       "      <th>2</th>\n",
       "      <td>1.3</td>\n",
       "      <td>0.2</td>\n",
       "    </tr>\n",
       "  </tbody>\n",
       "</table>\n",
       "</div>"
      ],
      "text/plain": [
       "   petal length (cm)  petal width (cm)\n",
       "0                1.4               0.2\n",
       "1                1.4               0.2\n",
       "2                1.3               0.2"
      ]
     },
     "execution_count": 1,
     "metadata": {},
     "output_type": "execute_result"
    }
   ],
   "source": [
    "import numpy as np\n",
    "import pandas as pd\n",
    "from sklearn.datasets import load_iris\n",
    "\n",
    "iris = load_iris()\n",
    "data = pd.DataFrame(iris.data, columns=iris.feature_names)\n",
    "X = data.iloc[:, 2:]\n",
    "X.head(3)"
   ]
  },
  {
   "cell_type": "markdown",
   "metadata": {},
   "source": [
    "# 無相関化"
   ]
  },
  {
   "cell_type": "markdown",
   "metadata": {},
   "source": [
    "観測データの特徴間から相関を無くす処理を無相関化といいます。  \n",
    "\n",
    "#### 無相関化する手順\n",
    "$1.$ データ $x$ の共分散行列 $\\Sigma$ を求める  \n",
    "$2.$ 求めた共分散行列 $\\Sigma$ から固有値、固有ベクトルを取得する  \n",
    "$3.$ 固有値ベクトルを並べた行列 $S$ (回転行列) を定義する  \n",
    "$4.$ 回転行列 $S$ を用いてデータ $x$ を線形変換する"
   ]
  },
  {
   "cell_type": "code",
   "execution_count": 2,
   "metadata": {},
   "outputs": [],
   "source": [
    "# 共分散行列を求める\n",
    "Sigma = np.cov(X, rowvar=0)\n",
    "\n",
    "# 共分散行列から固有値、固有ベクトルを取得\n",
    "eigenvalue, eigenvector = np.linalg.eig(Sigma)\n",
    "\n",
    "# 固有値ベクトルを並べて回転行列Sを定義する\n",
    "S = eigenvector\n",
    "\n",
    "# 回転行列Sを使ってデータを線形変換する\n",
    "y = np.dot(S.T, X.T).T"
   ]
  },
  {
   "cell_type": "markdown",
   "metadata": {},
   "source": [
    "#### 参考  \n",
    "共分散行列 $\\Sigma$ を回転行列 $S$ で対角化したものを対角行列 $\\Lambda$ とします。この対角行列 $\\Lambda$ の分散は、各固有ベクトル方向に対応する固有値になります。また、共分散は $0$ になるので、これを観測データの無相関化といいます。"
   ]
  },
  {
   "cell_type": "code",
   "execution_count": 3,
   "metadata": {},
   "outputs": [
    {
     "name": "stdout",
     "output_type": "stream",
     "text": [
      "固有値: [3.65937449 0.03621925]\n",
      "対角行列:\n",
      " [[3.65937449e+00 0.00000000e+00]\n",
      " [6.24500451e-17 3.62192472e-02]]\n"
     ]
    }
   ],
   "source": [
    "# 共分散行列を対角化する\n",
    "Lambda = np.dot(np.dot(S.T, Sigma), S)\n",
    "\n",
    "# 分散が固有値、共分散が0になっていることを確認する\n",
    "print('固有値:', eigenvalue)\n",
    "print('対角行列:\\n', Lambda)"
   ]
  },
  {
   "cell_type": "code",
   "execution_count": 4,
   "metadata": {},
   "outputs": [
    {
     "data": {
      "image/png": "[encoded data removed]",
      "text/plain": [
       "<matplotlib.figure.Figure at 0x1b2250d3128>"
      ]
     },
     "metadata": {
      "needs_background": "light"
     },
     "output_type": "display_data"
    }
   ],
   "source": [
    "%matplotlib inline\n",
    "import matplotlib.pyplot as plt\n",
    "\n",
    "fig = plt.figure(figsize=(15, 5))\n",
    "\n",
    "ax = fig.add_subplot(1, 2, 1)\n",
    "ax.scatter(X.iloc[:, 0], X.iloc[:, 1], alpha=.8)\n",
    "ax.set_title('Before Decorrelation')\n",
    "ax.set_xlabel('petal length (cm)')\n",
    "ax.set_ylabel('petal width (cm)')\n",
    "ax.set_xlim((-2, 8))\n",
    "ax.set_ylim((-2, 3))\n",
    "\n",
    "ax = fig.add_subplot(1, 2, 2)\n",
    "ax.scatter(y[:, 0], y[:, 1], alpha=.8)\n",
    "ax.set_title('After Decorrelation')\n",
    "ax.set_xlabel('petal length (cm)')\n",
    "ax.set_ylabel('petal width (cm)')\n",
    "ax.set_xlim((-2, 8))\n",
    "ax.set_ylim((-2, 3))\n",
    "\n",
    "plt.show()"
   ]
  }
 ],
 "metadata": {
  "kernelspec": {
   "display_name": "Python 3",
   "language": "python",
   "name": "python3"
  },
  "language_info": {
   "codemirror_mode": {
    "name": "ipython",
    "version": 3
   },
   "file_extension": ".py",
   "mimetype": "text/x-python",
   "name": "python",
   "nbconvert_exporter": "python",
   "pygments_lexer": "ipython3",
   "version": "3.6.4"
  }
 },
 "nbformat": 4,
 "nbformat_minor": 2
}
