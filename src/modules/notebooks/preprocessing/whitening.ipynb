{
 "cells": [
  {
   "cell_type": "markdown",
   "metadata": {},
   "source": [
    "# Irisデータセットの取得"
   ]
  },
  {
   "cell_type": "code",
   "execution_count": 1,
   "metadata": {},
   "outputs": [
    {
     "data": {
      "text/html": [
       "<div>\n",
       "<style scoped>\n",
       "    .dataframe tbody tr th:only-of-type {\n",
       "        vertical-align: middle;\n",
       "    }\n",
       "\n",
       "    .dataframe tbody tr th {\n",
       "        vertical-align: top;\n",
       "    }\n",
       "\n",
       "    .dataframe thead th {\n",
       "        text-align: right;\n",
       "    }\n",
       "</style>\n",
       "<table border=\"1\" class=\"dataframe\">\n",
       "  <thead>\n",
       "    <tr style=\"text-align: right;\">\n",
       "      <th></th>\n",
       "      <th>petal length (cm)</th>\n",
       "      <th>petal width (cm)</th>\n",
       "    </tr>\n",
       "  </thead>\n",
       "  <tbody>\n",
       "    <tr>\n",
       "      <th>0</th>\n",
       "      <td>1.4</td>\n",
       "      <td>0.2</td>\n",
       "    </tr>\n",
       "    <tr>\n",
       "      <th>1</th>\n",
       "      <td>1.4</td>\n",
       "      <td>0.2</td>\n",
       "    </tr>\n",
       "    <tr>\n",
       "      <th>2</th>\n",
       "      <td>1.3</td>\n",
       "      <td>0.2</td>\n",
       "    </tr>\n",
       "  </tbody>\n",
       "</table>\n",
       "</div>"
      ],
      "text/plain": [
       "   petal length (cm)  petal width (cm)\n",
       "0                1.4               0.2\n",
       "1                1.4               0.2\n",
       "2                1.3               0.2"
      ]
     },
     "execution_count": 1,
     "metadata": {},
     "output_type": "execute_result"
    }
   ],
   "source": [
    "import numpy as np\n",
    "import pandas as pd\n",
    "from sklearn.datasets import load_iris\n",
    "\n",
    "iris = load_iris()\n",
    "data = pd.DataFrame(iris.data, columns=iris.feature_names)\n",
    "X = data.iloc[:, 2:]\n",
    "X.head(3)\n"
   ]
  },
  {
   "cell_type": "markdown",
   "metadata": {},
   "source": [
    "# 白色化"
   ]
  },
  {
   "cell_type": "markdown",
   "metadata": {},
   "source": [
    "共分散行列 $\\Sigma$ を対角化することで特徴間の相関はなくなりますが、固有値相当分、特徴量の標準偏差に違いが残ります。この違いをなくして、すべての特徴量の標準偏差を $1$ に正規化し、かつ、中心化を行う操作を白色化（whitening）といいます。\n",
    "これは、無相関化した結果を標準化したようなイメージです。 つまり、白色化するとデータは各次元間の相関がなくなった上に平均が $0$ で標準偏差が $1$ になります。\n",
    "\n",
    "#### 白色化する手順\n",
    "$1.$ データを中心化する（平均を $0$ にする）  \n",
    "$2.$ データ $x$ の共分散行列 $\\Sigma$ を求める  \n",
    "$3.$ 求めた共分散行列 $\\Sigma$ から固有値、固有ベクトルを取得する  \n",
    "$4.$ 固有値ベクトルを並べた行列 $S$ (回転行列) を定義する  \n",
    "$5.$ 共分散行列 $\\Sigma$ を回転行列 $S$ で対角化し、対角行列 $\\Lambda$ を求める  \n",
    "$6.$ 対角行列 $\\Lambda$ の逆行列の平方根 $\\Lambda^{-\\frac{1}{2}}$ 、回転行列 $S$ 、中心化したデータの内積を求める"
   ]
  },
  {
   "cell_type": "code",
   "execution_count": 2,
   "metadata": {},
   "outputs": [
    {
     "name": "stderr",
     "output_type": "stream",
     "text": [
      "/Users/esaki01/.local/share/virtualenvs/ml-notebooks-rAvDjhvL/lib/python3.7/site-packages/ipykernel_launcher.py:17: RuntimeWarning: invalid value encountered in sqrt\n"
     ]
    }
   ],
   "source": [
    "# データを中心化する\n",
    "X_centerized = X - X.mean(axis=0)\n",
    "\n",
    "# 共分散行列を求める\n",
    "Sigma = np.cov(X, rowvar=0)\n",
    "\n",
    "# 共分散行列から固有値、固有ベクトルを取得\n",
    "eigenvalue, eigenvector = np.linalg.eig(Sigma)\n",
    "\n",
    "# 固有値ベクトルを並べて回転行列Sを定義する\n",
    "S = eigenvector\n",
    "\n",
    "# 対角行列を求める\n",
    "Lambda = np.dot(np.dot(np.linalg.inv(S), Sigma), S)\n",
    "\n",
    "# 対角行列の逆行列の平方根を計算する\n",
    "Lambda_sqrt_inv = np.linalg.inv(np.sqrt(Lambda))\n",
    "\n",
    "# 対角行列の逆行列の平方根、回転行列、中心化したデータの内積を求める\n",
    "u = np.dot(np.dot(X_centerized, S), Lambda_sqrt_inv.T)\n"
   ]
  },
  {
   "cell_type": "markdown",
   "metadata": {},
   "source": [
    "#### 参考  \n",
    "$u$ の共分散行列は単位行列になります。"
   ]
  },
  {
   "cell_type": "code",
   "execution_count": 3,
   "metadata": {},
   "outputs": [
    {
     "name": "stdout",
     "output_type": "stream",
     "text": [
      "白色化後の共分散行列: [[nan nan]\n",
      " [nan nan]]\n"
     ]
    }
   ],
   "source": [
    "# 白色化後の共分散行列\n",
    "u_cov = np.cov(u, rowvar=0)\n",
    "print('白色化後の共分散行列:', u_cov)\n"
   ]
  },
  {
   "cell_type": "code",
   "execution_count": 4,
   "metadata": {},
   "outputs": [
    {
     "data": {
      "image/png": "[encoded data removed]",
      "text/plain": [
       "<Figure size 1080x360 with 2 Axes>"
      ]
     },
     "metadata": {
      "needs_background": "light"
     },
     "output_type": "display_data"
    }
   ],
   "source": [
    "%matplotlib inline\n",
    "import matplotlib.pyplot as plt\n",
    "\n",
    "fig = plt.figure(figsize=(15, 5))\n",
    "\n",
    "ax = fig.add_subplot(1, 2, 1)\n",
    "ax.scatter(X.iloc[:, 0], X.iloc[:, 1], alpha=.8)\n",
    "ax.set_title('Before Whitening')\n",
    "ax.set_xlabel('petal length (cm)')\n",
    "ax.set_ylabel('petal width (cm)')\n",
    "ax.set_xlim((-2, 8))\n",
    "ax.set_ylim((-3, 3))\n",
    "\n",
    "ax = fig.add_subplot(1, 2, 2)\n",
    "ax.scatter(u[:, 0], u[:, 1], alpha=.8)\n",
    "ax.set_title('After Whitening')\n",
    "ax.set_xlabel('petal length (cm)')\n",
    "ax.set_ylabel('petal width (cm)')\n",
    "ax.set_xlim((-2, 8))\n",
    "ax.set_ylim((-2, 3))\n",
    "\n",
    "plt.show()\n"
   ]
  }
 ],
 "metadata": {
  "kernelspec": {
   "display_name": "Python 3",
   "language": "python",
   "name": "python3"
  },
  "language_info": {
   "codemirror_mode": {
    "name": "ipython",
    "version": 3
   },
   "file_extension": ".py",
   "mimetype": "text/x-python",
   "name": "python",
   "nbconvert_exporter": "python",
   "pygments_lexer": "ipython3",
   "version": "3.7.7"
  }
 },
 "nbformat": 4,
 "nbformat_minor": 2
}
