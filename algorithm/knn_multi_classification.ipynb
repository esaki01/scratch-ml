{
 "cells": [
  {
   "cell_type": "markdown",
   "metadata": {},
   "source": [
    "## データの取得・確認"
   ]
  },
  {
   "cell_type": "code",
   "execution_count": 1,
   "metadata": {},
   "outputs": [
    {
     "name": "stdout",
     "output_type": "stream",
     "text": [
      "\u001b[1m\u001b[34mIris Data (samples: 150, features: 4)\u001b[0m\n",
      "\u001b[1m\u001b[34mIris Target (samples: 150)\u001b[0m\n"
     ]
    }
   ],
   "source": [
    "import sys\n",
    "sys.path.append(r'C:/Users/koki5/Dropbox/Jupyter/ScratchML')\n",
    "\n",
    "import numpy as np\n",
    "import pandas as pd\n",
    "from sklearn import datasets\n",
    "from sklearn import model_selection\n",
    "from termcolor import cprint\n",
    "\n",
    "from common.module.evaluation import score\n",
    "\n",
    "\n",
    "iris = datasets.load_iris()\n",
    "iris_data = pd.DataFrame(data=iris.data, columns=iris.feature_names)\n",
    "iris_target = pd.Series(data=iris.target, name='target')\n",
    "\n",
    "X_train, X_test, y_train, y_test = model_selection.train_test_split(iris_data, iris_target)\n",
    "\n",
    "cprint('Iris Data (samples: {}, features: {})'.format(*iris_data.shape), 'blue', attrs=['bold'])\n",
    "cprint('Iris Target (samples: {})'.format(*iris_target.shape), 'blue', attrs=['bold'])"
   ]
  },
  {
   "cell_type": "code",
   "execution_count": 2,
   "metadata": {},
   "outputs": [
    {
     "data": {
      "text/html": [
       "<div>\n",
       "<style scoped>\n",
       "    .dataframe tbody tr th:only-of-type {\n",
       "        vertical-align: middle;\n",
       "    }\n",
       "\n",
       "    .dataframe tbody tr th {\n",
       "        vertical-align: top;\n",
       "    }\n",
       "\n",
       "    .dataframe thead th {\n",
       "        text-align: right;\n",
       "    }\n",
       "</style>\n",
       "<table border=\"1\" class=\"dataframe\">\n",
       "  <thead>\n",
       "    <tr style=\"text-align: right;\">\n",
       "      <th></th>\n",
       "      <th>sepal length (cm)</th>\n",
       "      <th>sepal width (cm)</th>\n",
       "      <th>petal length (cm)</th>\n",
       "      <th>petal width (cm)</th>\n",
       "    </tr>\n",
       "  </thead>\n",
       "  <tbody>\n",
       "    <tr>\n",
       "      <th>0</th>\n",
       "      <td>5.1</td>\n",
       "      <td>3.5</td>\n",
       "      <td>1.4</td>\n",
       "      <td>0.2</td>\n",
       "    </tr>\n",
       "    <tr>\n",
       "      <th>1</th>\n",
       "      <td>4.9</td>\n",
       "      <td>3.0</td>\n",
       "      <td>1.4</td>\n",
       "      <td>0.2</td>\n",
       "    </tr>\n",
       "    <tr>\n",
       "      <th>2</th>\n",
       "      <td>4.7</td>\n",
       "      <td>3.2</td>\n",
       "      <td>1.3</td>\n",
       "      <td>0.2</td>\n",
       "    </tr>\n",
       "  </tbody>\n",
       "</table>\n",
       "</div>"
      ],
      "text/plain": [
       "   sepal length (cm)  sepal width (cm)  petal length (cm)  petal width (cm)\n",
       "0                5.1               3.5                1.4               0.2\n",
       "1                4.9               3.0                1.4               0.2\n",
       "2                4.7               3.2                1.3               0.2"
      ]
     },
     "execution_count": 2,
     "metadata": {},
     "output_type": "execute_result"
    }
   ],
   "source": [
    "iris_data.head(3)"
   ]
  },
  {
   "cell_type": "code",
   "execution_count": 3,
   "metadata": {},
   "outputs": [
    {
     "data": {
      "text/plain": [
       "array([0, 1, 2], dtype=int64)"
      ]
     },
     "execution_count": 3,
     "metadata": {},
     "output_type": "execute_result"
    }
   ],
   "source": [
    "iris_target.unique()"
   ]
  },
  {
   "cell_type": "markdown",
   "metadata": {},
   "source": [
    "|  データセット  |  説明  |\n",
    "| ---- | ---- |\n",
    "|  sepal length (cm)  |  がく片の長さ  |\n",
    "|  sepal width (cm)  |  がく片の幅  |\n",
    "|  petal length (cm)  |  花弁の長さ  |\n",
    "|  petal width (cm)  |  花弁の幅  |\n",
    "|  target  |  目的変数／(setosa: 0, versicolor: 1, virginica: 2)  |"
   ]
  },
  {
   "cell_type": "markdown",
   "metadata": {},
   "source": [
    "## データの可視化"
   ]
  },
  {
   "cell_type": "code",
   "execution_count": 4,
   "metadata": {},
   "outputs": [
    {
     "data": {
      "text/plain": [
       "<seaborn.axisgrid.PairGrid at 0x1e2174487f0>"
      ]
     },
     "execution_count": 4,
     "metadata": {},
     "output_type": "execute_result"
    }
   ],
   "source": [
    "import seaborn as sns\n",
    "df_concat = pd.concat([iris_data, iris_target], axis=1)\n",
    "sns.pairplot(df_concat, hue='target')"
   ]
  },
  {
   "cell_type": "markdown",
   "metadata": {},
   "source": [
    "## モデルの構築・訓練"
   ]
  },
  {
   "cell_type": "code",
   "execution_count": 5,
   "metadata": {},
   "outputs": [],
   "source": [
    "class KNeighborsClassifier(object):\n",
    "    \"\"\"k最近傍法.\"\"\"\n",
    "    \n",
    "    \n",
    "    def __init__(self):\n",
    "        pass\n",
    "    \n",
    "    \n",
    "    def fit(self, X, y):\n",
    "        \"\"\"訓練データで学習する.\n",
    "        \n",
    "        ---パラメータ-------\n",
    "        X: 訓練データセット\n",
    "        y: ターゲット\n",
    "        --------------------\n",
    "        \n",
    "        ---属性-----------------------------------------------\n",
    "        _X_train: 保存後（kNNは訓練しない）の訓練データセット\n",
    "        _y_train: 保存後（kNNは訓練しない）のターゲット\n",
    "        ------------------------------------------------------\n",
    "        \n",
    "        \"\"\"\n",
    "        self._X_train = X\n",
    "        self._y_train = y\n",
    "        \n",
    "    \n",
    "    def predict(self, X):\n",
    "        \"\"\"クラスラベルを予測する.\n",
    "        \n",
    "        X: テストデータセット\n",
    "        \"\"\"    \n",
    "        classlabels = []\n",
    "        for p0 in X.values:\n",
    "            distances = []\n",
    "            for p1 in self._X_train.values:\n",
    "                # 訓練データとテストデータのユークリッド距離を計算\n",
    "                distance = self.cal_eu_dist(p0, p1)\n",
    "                distances.append(distance)\n",
    "                \n",
    "            # ユークリッド距離の一番小さいものを該当クラスに分類する\n",
    "            nearest_index = np.array(distances).argmin()\n",
    "            classlabels.append(self._y_train.values[nearest_index])\n",
    "            \n",
    "        return classlabels\n",
    "\n",
    "    \n",
    "    def cal_eu_dist(self, p0, p1):\n",
    "        \"\"\"p0とp1のユークリッド距離を計算する.\"\"\"\n",
    "        return np.sqrt(np.sum((p0 - p1) ** 2, axis=0))"
   ]
  },
  {
   "cell_type": "code",
   "execution_count": 6,
   "metadata": {},
   "outputs": [],
   "source": [
    "knn = KNeighborsClassifier()\n",
    "knn.fit(X_train, y_train)"
   ]
  },
  {
   "cell_type": "markdown",
   "metadata": {},
   "source": [
    "## 予測・評価"
   ]
  },
  {
   "cell_type": "code",
   "execution_count": 7,
   "metadata": {},
   "outputs": [
    {
     "data": {
      "text/html": [
       "<div>\n",
       "<style scoped>\n",
       "    .dataframe tbody tr th:only-of-type {\n",
       "        vertical-align: middle;\n",
       "    }\n",
       "\n",
       "    .dataframe tbody tr th {\n",
       "        vertical-align: top;\n",
       "    }\n",
       "\n",
       "    .dataframe thead th {\n",
       "        text-align: right;\n",
       "    }\n",
       "</style>\n",
       "<table border=\"1\" class=\"dataframe\">\n",
       "  <thead>\n",
       "    <tr style=\"text-align: right;\">\n",
       "      <th></th>\n",
       "      <th>target</th>\n",
       "    </tr>\n",
       "  </thead>\n",
       "  <tbody>\n",
       "    <tr>\n",
       "      <th>0</th>\n",
       "      <td>0</td>\n",
       "    </tr>\n",
       "    <tr>\n",
       "      <th>1</th>\n",
       "      <td>2</td>\n",
       "    </tr>\n",
       "    <tr>\n",
       "      <th>2</th>\n",
       "      <td>1</td>\n",
       "    </tr>\n",
       "    <tr>\n",
       "      <th>3</th>\n",
       "      <td>1</td>\n",
       "    </tr>\n",
       "    <tr>\n",
       "      <th>4</th>\n",
       "      <td>2</td>\n",
       "    </tr>\n",
       "  </tbody>\n",
       "</table>\n",
       "</div>"
      ],
      "text/plain": [
       "   target\n",
       "0       0\n",
       "1       2\n",
       "2       1\n",
       "3       1\n",
       "4       2"
      ]
     },
     "execution_count": 7,
     "metadata": {},
     "output_type": "execute_result"
    }
   ],
   "source": [
    "predict = pd.DataFrame(knn.predict(X_train), columns=['target'])\n",
    "predict.head()"
   ]
  },
  {
   "cell_type": "code",
   "execution_count": 8,
   "metadata": {},
   "outputs": [
    {
     "name": "stdout",
     "output_type": "stream",
     "text": [
      "\u001b[1m\u001b[31mtrain_score: 1.0\n",
      "test_score: 1.0\u001b[0m\n"
     ]
    }
   ],
   "source": [
    "train_score = score(predict, y_train)\n",
    "test_score = score(pd.DataFrame(knn.predict(X_test), columns=['target']), y_test)\n",
    "cprint('train_score: {}\\ntest_score: {}'.format(train_score, test_score), 'red', attrs=['bold'])"
   ]
  }
 ],
 "metadata": {
  "kernelspec": {
   "display_name": "Python 3",
   "language": "python",
   "name": "python3"
  },
  "language_info": {
   "codemirror_mode": {
    "name": "ipython",
    "version": 3
   },
   "file_extension": ".py",
   "mimetype": "text/x-python",
   "name": "python",
   "nbconvert_exporter": "python",
   "pygments_lexer": "ipython3",
   "version": "3.6.4"
  }
 },
 "nbformat": 4,
 "nbformat_minor": 2
}
