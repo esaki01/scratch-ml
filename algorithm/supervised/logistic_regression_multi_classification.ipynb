{
 "cells": [
  {
   "cell_type": "markdown",
   "metadata": {},
   "source": [
    "## データの取得・確認"
   ]
  },
  {
   "cell_type": "code",
   "execution_count": 1,
   "metadata": {},
   "outputs": [
    {
     "name": "stdout",
     "output_type": "stream",
     "text": [
      "\u001b[1m\u001b[34mIris Data (samples: 150, features: 4)\u001b[0m\n",
      "\u001b[1m\u001b[34mIris Target (samples: 150)\u001b[0m\n"
     ]
    }
   ],
   "source": [
    "import sys\n",
    "sys.path.append(r'C:/Users/koki5/Dropbox/Jupyter/ScratchML')\n",
    "\n",
    "import numpy as np\n",
    "import pandas as pd\n",
    "from sklearn import datasets\n",
    "from sklearn import model_selection\n",
    "from termcolor import cprint\n",
    "\n",
    "from common.module.evaluation import score\n",
    "\n",
    "\n",
    "iris = datasets.load_iris()\n",
    "iris_data = pd.DataFrame(data=iris.data, columns=iris.feature_names)\n",
    "iris_target = pd.Series(data=iris.target, name='target')\n",
    "\n",
    "X_train, X_test, y_train, y_test = model_selection.train_test_split(iris_data, iris_target)\n",
    "\n",
    "cprint('Iris Data (samples: {}, features: {})'.format(*iris_data.shape), 'blue', attrs=['bold'])\n",
    "cprint('Iris Target (samples: {})'.format(*iris_target.shape), 'blue', attrs=['bold'])"
   ]
  },
  {
   "cell_type": "code",
   "execution_count": 2,
   "metadata": {},
   "outputs": [
    {
     "data": {
      "text/html": [
       "<div>\n",
       "<style scoped>\n",
       "    .dataframe tbody tr th:only-of-type {\n",
       "        vertical-align: middle;\n",
       "    }\n",
       "\n",
       "    .dataframe tbody tr th {\n",
       "        vertical-align: top;\n",
       "    }\n",
       "\n",
       "    .dataframe thead th {\n",
       "        text-align: right;\n",
       "    }\n",
       "</style>\n",
       "<table border=\"1\" class=\"dataframe\">\n",
       "  <thead>\n",
       "    <tr style=\"text-align: right;\">\n",
       "      <th></th>\n",
       "      <th>sepal length (cm)</th>\n",
       "      <th>sepal width (cm)</th>\n",
       "      <th>petal length (cm)</th>\n",
       "      <th>petal width (cm)</th>\n",
       "    </tr>\n",
       "  </thead>\n",
       "  <tbody>\n",
       "    <tr>\n",
       "      <th>0</th>\n",
       "      <td>5.1</td>\n",
       "      <td>3.5</td>\n",
       "      <td>1.4</td>\n",
       "      <td>0.2</td>\n",
       "    </tr>\n",
       "    <tr>\n",
       "      <th>1</th>\n",
       "      <td>4.9</td>\n",
       "      <td>3.0</td>\n",
       "      <td>1.4</td>\n",
       "      <td>0.2</td>\n",
       "    </tr>\n",
       "    <tr>\n",
       "      <th>2</th>\n",
       "      <td>4.7</td>\n",
       "      <td>3.2</td>\n",
       "      <td>1.3</td>\n",
       "      <td>0.2</td>\n",
       "    </tr>\n",
       "  </tbody>\n",
       "</table>\n",
       "</div>"
      ],
      "text/plain": [
       "   sepal length (cm)  sepal width (cm)  petal length (cm)  petal width (cm)\n",
       "0                5.1               3.5                1.4               0.2\n",
       "1                4.9               3.0                1.4               0.2\n",
       "2                4.7               3.2                1.3               0.2"
      ]
     },
     "execution_count": 2,
     "metadata": {},
     "output_type": "execute_result"
    }
   ],
   "source": [
    "iris_data.head(3)"
   ]
  },
  {
   "cell_type": "code",
   "execution_count": 3,
   "metadata": {},
   "outputs": [
    {
     "data": {
      "text/plain": [
       "array([0, 1, 2], dtype=int64)"
      ]
     },
     "execution_count": 3,
     "metadata": {},
     "output_type": "execute_result"
    }
   ],
   "source": [
    "iris_target.unique()"
   ]
  },
  {
   "cell_type": "markdown",
   "metadata": {},
   "source": [
    "|  データセット  |  説明  |\n",
    "| ---- | ---- |\n",
    "|  sepal length (cm)  |  がく片の長さ  |\n",
    "|  sepal width (cm)  |  がく片の幅  |\n",
    "|  petal length (cm)  |  花弁の長さ  |\n",
    "|  petal width (cm)  |  花弁の幅  |\n",
    "|  target  |  目的変数／(setosa: 0, versicolor: 1, virginica: 2)  |"
   ]
  },
  {
   "cell_type": "markdown",
   "metadata": {},
   "source": [
    "## データの可視化"
   ]
  },
  {
   "cell_type": "code",
   "execution_count": 4,
   "metadata": {},
   "outputs": [
    {
     "data": {
      "text/plain": [
       "<seaborn.axisgrid.PairGrid at 0x2737a5b87f0>"
      ]
     },
     "execution_count": 4,
     "metadata": {},
     "output_type": "execute_result"
    }
   ],
   "source": [
    "import seaborn as sns\n",
    "df_concat = pd.concat([iris_data, iris_target], axis=1)\n",
    "sns.pairplot(df_concat, hue='target')"
   ]
  },
  {
   "cell_type": "markdown",
   "metadata": {},
   "source": [
    "## データ前処理"
   ]
  },
  {
   "cell_type": "code",
   "execution_count": 5,
   "metadata": {},
   "outputs": [
    {
     "data": {
      "text/html": [
       "<div>\n",
       "<style scoped>\n",
       "    .dataframe tbody tr th:only-of-type {\n",
       "        vertical-align: middle;\n",
       "    }\n",
       "\n",
       "    .dataframe tbody tr th {\n",
       "        vertical-align: top;\n",
       "    }\n",
       "\n",
       "    .dataframe thead th {\n",
       "        text-align: right;\n",
       "    }\n",
       "</style>\n",
       "<table border=\"1\" class=\"dataframe\">\n",
       "  <thead>\n",
       "    <tr style=\"text-align: right;\">\n",
       "      <th></th>\n",
       "      <th>0</th>\n",
       "      <th>1</th>\n",
       "      <th>2</th>\n",
       "    </tr>\n",
       "  </thead>\n",
       "  <tbody>\n",
       "    <tr>\n",
       "      <th>25</th>\n",
       "      <td>1</td>\n",
       "      <td>0</td>\n",
       "      <td>0</td>\n",
       "    </tr>\n",
       "    <tr>\n",
       "      <th>38</th>\n",
       "      <td>1</td>\n",
       "      <td>0</td>\n",
       "      <td>0</td>\n",
       "    </tr>\n",
       "    <tr>\n",
       "      <th>64</th>\n",
       "      <td>0</td>\n",
       "      <td>1</td>\n",
       "      <td>0</td>\n",
       "    </tr>\n",
       "  </tbody>\n",
       "</table>\n",
       "</div>"
      ],
      "text/plain": [
       "    0  1  2\n",
       "25  1  0  0\n",
       "38  1  0  0\n",
       "64  0  1  0"
      ]
     },
     "execution_count": 5,
     "metadata": {},
     "output_type": "execute_result"
    }
   ],
   "source": [
    "# One Hot encoding\n",
    "y_train_encoded = pd.get_dummies(y_train)\n",
    "y_train_encoded.head(3)"
   ]
  },
  {
   "cell_type": "code",
   "execution_count": 6,
   "metadata": {},
   "outputs": [
    {
     "data": {
      "text/html": [
       "<div>\n",
       "<style scoped>\n",
       "    .dataframe tbody tr th:only-of-type {\n",
       "        vertical-align: middle;\n",
       "    }\n",
       "\n",
       "    .dataframe tbody tr th {\n",
       "        vertical-align: top;\n",
       "    }\n",
       "\n",
       "    .dataframe thead th {\n",
       "        text-align: right;\n",
       "    }\n",
       "</style>\n",
       "<table border=\"1\" class=\"dataframe\">\n",
       "  <thead>\n",
       "    <tr style=\"text-align: right;\">\n",
       "      <th></th>\n",
       "      <th>0</th>\n",
       "      <th>petal length (cm)</th>\n",
       "      <th>petal width (cm)</th>\n",
       "      <th>sepal length (cm)</th>\n",
       "      <th>sepal width (cm)</th>\n",
       "    </tr>\n",
       "  </thead>\n",
       "  <tbody>\n",
       "    <tr>\n",
       "      <th>25</th>\n",
       "      <td>1</td>\n",
       "      <td>-1.208893</td>\n",
       "      <td>-1.290815</td>\n",
       "      <td>-1.024090</td>\n",
       "      <td>-0.108345</td>\n",
       "    </tr>\n",
       "    <tr>\n",
       "      <th>38</th>\n",
       "      <td>1</td>\n",
       "      <td>-1.380136</td>\n",
       "      <td>-1.290815</td>\n",
       "      <td>-1.756985</td>\n",
       "      <td>-0.108345</td>\n",
       "    </tr>\n",
       "    <tr>\n",
       "      <th>64</th>\n",
       "      <td>1</td>\n",
       "      <td>-0.067274</td>\n",
       "      <td>0.140584</td>\n",
       "      <td>-0.291195</td>\n",
       "      <td>-0.333059</td>\n",
       "    </tr>\n",
       "  </tbody>\n",
       "</table>\n",
       "</div>"
      ],
      "text/plain": [
       "    0  petal length (cm)  petal width (cm)  sepal length (cm)  \\\n",
       "25  1          -1.208893         -1.290815          -1.024090   \n",
       "38  1          -1.380136         -1.290815          -1.756985   \n",
       "64  1          -0.067274          0.140584          -0.291195   \n",
       "\n",
       "    sepal width (cm)  \n",
       "25         -0.108345  \n",
       "38         -0.108345  \n",
       "64         -0.333059  "
      ]
     },
     "execution_count": 6,
     "metadata": {},
     "output_type": "execute_result"
    }
   ],
   "source": [
    "def standardize(X):\n",
    "    \"\"\"標準化する.\n",
    "    \n",
    "    X: データセット\n",
    "    \"\"\"\n",
    "    return (X - np.mean(X, axis=0)) / np.std(X, axis=0)\n",
    "\n",
    "\n",
    "def add_ones(X):\n",
    "    \"\"\"特徴量の0列目に1を加える.\n",
    "    \n",
    "    X: データセット\n",
    "    \"\"\"\n",
    "    X['0'] = 1\n",
    "    return X.sort_index(axis=1, ascending=True)\n",
    "\n",
    "\n",
    "X_train_std = standardize(X_train)\n",
    "X_test_std = standardize(X_test)\n",
    "\n",
    "# バイアス項を追加\n",
    "X_train_std = add_ones(X_train_std)\n",
    "X_test_std = add_ones(X_test_std)\n",
    "\n",
    "X_train_std.head(3)"
   ]
  },
  {
   "cell_type": "markdown",
   "metadata": {},
   "source": [
    "## モデルの構築・訓練"
   ]
  },
  {
   "cell_type": "code",
   "execution_count": 7,
   "metadata": {},
   "outputs": [],
   "source": [
    "class LogisticRegression(object):\n",
    "    \"\"\"勾配降下法に基づくロジスティック回帰.\"\"\"\n",
    "    \n",
    "    \n",
    "    def __init__(self, alpha=0.01, eps=1e-6):\n",
    "        \"\"\"\n",
    "        \n",
    "        ---パラメータ-------\n",
    "        alpha: 学習率\n",
    "        n_iter: 収束の目安\n",
    "        --------------------\n",
    "        \n",
    "        ---属性-------------\n",
    "        _w: パラメータ（重み）\n",
    "        --------------------\n",
    "\n",
    "        \"\"\"\n",
    "        self.alpha = alpha\n",
    "        self.eps = eps\n",
    "        \n",
    "        self._w = 0\n",
    "        \n",
    "        \n",
    "    def fit(self, X, y, C=100):\n",
    "        \"\"\"訓練データで学習する.\n",
    "        \n",
    "        ---パラメータ-------\n",
    "        X: 訓練データセット\n",
    "        y: ターゲット\n",
    "        --------------------\n",
    "        \n",
    "        \"\"\"\n",
    "        # パラメータの初期値はランダムに設定する\n",
    "        theta = np.random.rand(y.shape[1], X.shape[1])\n",
    "        error = self.J(X, y, theta)\n",
    "        diff = np.array([1, 1, 1])\n",
    "        count = 0\n",
    "        \n",
    "        # コスト関数の値が殆ど変動しなくなったら収束とする\n",
    "        while diff.sum() > self.eps:\n",
    "            # パラメータの更新処理\n",
    "            grad = (1 / len(y)) * (np.dot((self.h(X, theta) - y).T, X))\n",
    "            theta = theta - self.alpha * grad\n",
    "            \n",
    "            # 収束状況を確認するための処理\n",
    "            current_error = self.J(X, y, theta)\n",
    "            diff = error - current_error\n",
    "            error = current_error\n",
    "            count += 1\n",
    "            print('\\r【{}回目】Error: {}, Diff: {}, Grad: {}'.format(count, error.sum(), diff.sum(), grad.sum()), end='')\n",
    "            \n",
    "        self._w = theta\n",
    "        return self\n",
    "    \n",
    "    \n",
    "    def predict(self, X):\n",
    "        \"\"\"クラスラベルを予測する.\n",
    "        \n",
    "        X: テストデータセット\n",
    "        \"\"\"\n",
    "        return self.h(X, self._w).argmax(1)\n",
    "\n",
    "            \n",
    "    def activate(self, z):\n",
    "        \"\"\"ソフトマックス関数（活性化関数）.\n",
    "        \n",
    "        z: 仮説関数の予測値\n",
    "        \"\"\"\n",
    "        return np.exp(z) / np.sum(np.exp(z), axis=1).reshape([z.shape[0], 1])\n",
    "    \n",
    "\n",
    "    def h(self, X, theta):\n",
    "        \"\"\"仮説関数.\n",
    "        \n",
    "        X: 訓練データセット\n",
    "        theta: パラメータ（重み）\n",
    "        \"\"\"\n",
    "        return self.activate(np.dot(X, theta.T))\n",
    "    \n",
    "\n",
    "    def J(self, X, y, theta, C=100):\n",
    "        \"\"\"目的関数.\n",
    "        \n",
    "        X: 訓練データセット\n",
    "        y: ターゲット\n",
    "        theta: パラメータ（重み）\n",
    "        \"\"\"\n",
    "        delta = 1e-7 # np.log()に0が混在しないようにする\n",
    "        return - (1 / len(y)) * (np.sum(y * np.log(self.h(X, theta) + delta) + (1 - y) * np.log(1 - self.h(X, theta) + delta)))"
   ]
  },
  {
   "cell_type": "code",
   "execution_count": 8,
   "metadata": {},
   "outputs": [
    {
     "name": "stdout",
     "output_type": "stream",
     "text": [
      "【45953回目】Error: 0.1430767204074133, Diff: 9.999819611875016e-07, Grad: -1.1817803680091998e-1718"
     ]
    },
    {
     "data": {
      "text/plain": [
       "<__main__.LogisticRegression at 0x27307917080>"
      ]
     },
     "execution_count": 8,
     "metadata": {},
     "output_type": "execute_result"
    }
   ],
   "source": [
    "lr = LogisticRegression()\n",
    "lr.fit(X_train_std, y_train_encoded)"
   ]
  },
  {
   "cell_type": "markdown",
   "metadata": {},
   "source": [
    "## 予測・評価"
   ]
  },
  {
   "cell_type": "code",
   "execution_count": 9,
   "metadata": {},
   "outputs": [
    {
     "data": {
      "text/html": [
       "<div>\n",
       "<style scoped>\n",
       "    .dataframe tbody tr th:only-of-type {\n",
       "        vertical-align: middle;\n",
       "    }\n",
       "\n",
       "    .dataframe tbody tr th {\n",
       "        vertical-align: top;\n",
       "    }\n",
       "\n",
       "    .dataframe thead th {\n",
       "        text-align: right;\n",
       "    }\n",
       "</style>\n",
       "<table border=\"1\" class=\"dataframe\">\n",
       "  <thead>\n",
       "    <tr style=\"text-align: right;\">\n",
       "      <th></th>\n",
       "      <th>target</th>\n",
       "    </tr>\n",
       "  </thead>\n",
       "  <tbody>\n",
       "    <tr>\n",
       "      <th>0</th>\n",
       "      <td>0</td>\n",
       "    </tr>\n",
       "    <tr>\n",
       "      <th>1</th>\n",
       "      <td>0</td>\n",
       "    </tr>\n",
       "    <tr>\n",
       "      <th>2</th>\n",
       "      <td>1</td>\n",
       "    </tr>\n",
       "    <tr>\n",
       "      <th>3</th>\n",
       "      <td>2</td>\n",
       "    </tr>\n",
       "    <tr>\n",
       "      <th>4</th>\n",
       "      <td>2</td>\n",
       "    </tr>\n",
       "    <tr>\n",
       "      <th>5</th>\n",
       "      <td>1</td>\n",
       "    </tr>\n",
       "    <tr>\n",
       "      <th>6</th>\n",
       "      <td>2</td>\n",
       "    </tr>\n",
       "    <tr>\n",
       "      <th>7</th>\n",
       "      <td>1</td>\n",
       "    </tr>\n",
       "    <tr>\n",
       "      <th>8</th>\n",
       "      <td>0</td>\n",
       "    </tr>\n",
       "    <tr>\n",
       "      <th>9</th>\n",
       "      <td>0</td>\n",
       "    </tr>\n",
       "  </tbody>\n",
       "</table>\n",
       "</div>"
      ],
      "text/plain": [
       "   target\n",
       "0       0\n",
       "1       0\n",
       "2       1\n",
       "3       2\n",
       "4       2\n",
       "5       1\n",
       "6       2\n",
       "7       1\n",
       "8       0\n",
       "9       0"
      ]
     },
     "execution_count": 9,
     "metadata": {},
     "output_type": "execute_result"
    }
   ],
   "source": [
    "predict = pd.DataFrame(lr.predict(X_train_std), columns=['target'])\n",
    "predict.head(10)"
   ]
  },
  {
   "cell_type": "code",
   "execution_count": 10,
   "metadata": {},
   "outputs": [
    {
     "name": "stdout",
     "output_type": "stream",
     "text": [
      "\u001b[1m\u001b[31mtrain_score: 0.9732142857142857\n",
      "test_score: 0.9736842105263158\u001b[0m\n"
     ]
    }
   ],
   "source": [
    "train_score = score(predict, y_train)\n",
    "test_score = score(pd.DataFrame(lr.predict(X_test_std), columns=['target']), y_test)\n",
    "cprint('train_score: {}\\ntest_score: {}'.format(train_score, test_score), 'red', attrs=['bold'])"
   ]
  }
 ],
 "metadata": {
  "kernelspec": {
   "display_name": "Python 3",
   "language": "python",
   "name": "python3"
  },
  "language_info": {
   "codemirror_mode": {
    "name": "ipython",
    "version": 3
   },
   "file_extension": ".py",
   "mimetype": "text/x-python",
   "name": "python",
   "nbconvert_exporter": "python",
   "pygments_lexer": "ipython3",
   "version": "3.6.4"
  }
 },
 "nbformat": 4,
 "nbformat_minor": 2
}
