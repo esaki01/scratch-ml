{
 "cells": [
  {
   "cell_type": "markdown",
   "metadata": {},
   "source": [
    "# PCA Dimension Reduction"
   ]
  },
  {
   "cell_type": "markdown",
   "metadata": {},
   "source": [
    "### 主成分分析の主要なステップ\n",
    "#### 1. 主成分を抽出する\n",
    " - データを標準化する\n",
    " - 共分散行列を作成する\n",
    " - 共分散行列の固有値と固有ベクトル（主成分）を取得する\n",
    " - データに含まれる大半の情報（分散）を含んでいる固有ベクトル（主成分）を確認する\n",
    "\n",
    "#### 2. 特徴変換\n",
    " - 最も大きいk個の固有値に対応するk個の固有ベクトルを選択する（kは新しい特徴部分空間の次元数を表す「k <= d」）\n",
    " - 上位k個の固有ベクトルから射影行列Wを作成する\n",
    " - 射影行列Wを使ってd次元の入力データセットXを変換し、新しいk次元の特徴部分空間を取得する"
   ]
  },
  {
   "cell_type": "markdown",
   "metadata": {},
   "source": [
    "## 主成分を抽出する"
   ]
  },
  {
   "cell_type": "markdown",
   "metadata": {},
   "source": [
    "### データを標準化する"
   ]
  },
  {
   "cell_type": "code",
   "execution_count": 1,
   "metadata": {},
   "outputs": [
    {
     "name": "stdout",
     "output_type": "stream",
     "text": [
      "Shape of X_train (samples: 124, features: 13, mean: 0.00, standard: 1.00)\n",
      "Shape of y_train (samples: 124)\n",
      "Shape of X_test (samples: 54, features: 13, mean: -0.00, standard: 1.00)\n",
      "Shape of y_test (samples: 54)\n"
     ]
    }
   ],
   "source": [
    "import sys\n",
    "sys.path.append(r'C:/Users/koki5/Dropbox/Jupyter/ScratchML')\n",
    "\n",
    "import numpy as np\n",
    "import pandas as pd\n",
    "from sklearn.model_selection import train_test_split\n",
    "\n",
    "from common.module.preprocessing import standardize\n",
    "\n",
    "\n",
    "df_wine = pd.read_csv('https://archive.ics.uci.edu/ml/machine-learning-databases/wine/wine.data', header=None)\n",
    "X, y = df_wine.iloc[:, 1:].values, df_wine.iloc[:, 0].values\n",
    "X_train, X_test, y_train, y_test = train_test_split(X, y, test_size=0.3, random_state=0, stratify=y)\n",
    "\n",
    "X_train = standardize(X_train)\n",
    "X_test = standardize(X_test)\n",
    "\n",
    "# sc = StandardScaler()\n",
    "# X_train = sc.fit_transform(X_train)\n",
    "# X_test = sc.transform(X_test)\n",
    "\n",
    "print('Shape of X_train (samples: {}, features: {}, mean: {:.2f}, standard: {:.2f})'.format(*X_train.shape, X_train.mean(), X_train.std()))\n",
    "print('Shape of y_train (samples: {})'.format(*y_train.shape))\n",
    "print('Shape of X_test (samples: {}, features: {}, mean: {:.2f}, standard: {:.2f})'.format(*X_test.shape, X_test.mean(), X_test.std()))\n",
    "print('Shape of y_test (samples: {})'.format(*y_test.shape))"
   ]
  },
  {
   "cell_type": "markdown",
   "metadata": {},
   "source": [
    "### 共分散行列を作成する"
   ]
  },
  {
   "cell_type": "code",
   "execution_count": 2,
   "metadata": {},
   "outputs": [
    {
     "data": {
      "text/plain": [
       "array([ 1.00813008,  0.06709556,  0.17405351, -0.35439069,  0.26374703,\n",
       "        0.29079481,  0.21835807, -0.08111974,  0.10436705,  0.54282846,\n",
       "        0.05893536, -0.01797029,  0.6415292 ])"
      ]
     },
     "execution_count": 2,
     "metadata": {},
     "output_type": "execute_result"
    }
   ],
   "source": [
    "cov_mat = np.cov(X_train.T)\n",
    "cov_mat[0]"
   ]
  },
  {
   "cell_type": "markdown",
   "metadata": {},
   "source": [
    "### 共分散行列の固有値と固有ベクトル（主成分）を取得する"
   ]
  },
  {
   "cell_type": "code",
   "execution_count": 3,
   "metadata": {},
   "outputs": [
    {
     "name": "stdout",
     "output_type": "stream",
     "text": [
      "Eigenvalues:\n",
      " [4.84274532 2.41602459 1.54845825 0.96120438 0.84166161 0.6620634\n",
      " 0.51828472 0.34650377 0.3131368  0.10754642 0.21357215 0.15362835\n",
      " 0.1808613 ]\n",
      "\n",
      "Eigenvectors:\n",
      " [-0.13724218  0.50303478 -0.13774873 -0.0032961  -0.29062523  0.29909685\n",
      "  0.07905293 -0.36817641 -0.39837702 -0.09448698  0.37463888 -0.12783451\n",
      "  0.26283426]\n"
     ]
    }
   ],
   "source": [
    "eigen_vals, eigen_vecs = np.linalg.eig(cov_mat)\n",
    "print('Eigenvalues:\\n', eigen_vals, end='\\n\\n')\n",
    "print('Eigenvectors:\\n', eigen_vecs[0])"
   ]
  },
  {
   "cell_type": "markdown",
   "metadata": {},
   "source": [
    "### データに含まれる大半の情報（分散）を含んでいる固有ベクトル（主成分）を確認する"
   ]
  },
  {
   "cell_type": "code",
   "execution_count": 4,
   "metadata": {},
   "outputs": [
    {
     "name": "stdout",
     "output_type": "stream",
     "text": [
      "固有値の分散説明率（高い順）:\n",
      " [0.3695146859960764, 0.18434927059884165, 0.11815159094596983, 0.0733425176378547, 0.06422107821731671, 0.050517244849076534, 0.03954653891241449, 0.026439183169220032, 0.023893192591852925, 0.016296137737251012, 0.013800211221948416, 0.011722262443085957, 0.008206085679091374]\n"
     ]
    }
   ],
   "source": [
    "def cal_eigenvalues_rate(eigen_vals):\n",
    "    \"\"\"固有値の分散説明率（固有値の合計に対する固有値の割合）を計算する.\n",
    "    \n",
    "    eigen_vals: 固有値\n",
    "    \"\"\"\n",
    "    total_eigen_vals = np.sum(eigen_vals)\n",
    "    var_exp = [(i / total_eigen_vals) for i in sorted(eigen_vals, reverse=True)]\n",
    "    return var_exp\n",
    "\n",
    "\n",
    "var_exp = cal_eigenvalues_rate(eigen_vals)\n",
    "print('固有値の分散説明率（高い順）:\\n', var_exp)"
   ]
  },
  {
   "cell_type": "code",
   "execution_count": 5,
   "metadata": {},
   "outputs": [
    {
     "data": {
      "image/png": "[encoded data removed]",
      "text/plain": [
       "<matplotlib.figure.Figure at 0x201882ef710>"
      ]
     },
     "metadata": {
      "needs_background": "light"
     },
     "output_type": "display_data"
    }
   ],
   "source": [
    "%matplotlib inline\n",
    "import matplotlib.pyplot as plt\n",
    "\n",
    "\n",
    "# 分散説明率の棒グラフ\n",
    "plt.bar(range(1, 14), var_exp, alpha=0.5, align='center', label='individual explained variance')\n",
    "# 分散説明率の累積和の階段グラフ\n",
    "plt.step(range(1, 14), np.cumsum(var_exp), where='mid', label='cumulative explained variance')\n",
    "plt.ylabel('Explained variance ratio')\n",
    "plt.xlabel('Principal component index')\n",
    "plt.legend(loc='best')\n",
    "plt.tight_layout()\n",
    "plt.show()"
   ]
  },
  {
   "cell_type": "markdown",
   "metadata": {},
   "source": [
    "## 特徴変換"
   ]
  },
  {
   "cell_type": "markdown",
   "metadata": {},
   "source": [
    "### 最も大きいk個の固有値に対応するk個の固有ベクトルを選択する（kは新しい特徴部分空間の次元数を表す「k <= d」）"
   ]
  },
  {
   "cell_type": "code",
   "execution_count": 6,
   "metadata": {},
   "outputs": [],
   "source": [
    "# 固有値、固有ベクトルのタプルを作成\n",
    "eigen_pairs = [(np.abs(eigen_vals[i]), eigen_vecs[:, i]) for i in range(len(eigen_vals))]\n",
    "# 大きいものから順に並び替え\n",
    "eigen_pairs.sort(key=lambda k: k[0], reverse=True)"
   ]
  },
  {
   "cell_type": "markdown",
   "metadata": {},
   "source": [
    "### 上位k個の固有ベクトルから射影行列Wを作成する"
   ]
  },
  {
   "cell_type": "code",
   "execution_count": 7,
   "metadata": {},
   "outputs": [
    {
     "name": "stdout",
     "output_type": "stream",
     "text": [
      "Matrix W:\n",
      " [[-0.13724218  0.50303478]\n",
      " [ 0.24724326  0.16487119]\n",
      " [-0.02545159  0.24456476]\n",
      " [ 0.20694508 -0.11352904]\n",
      " [-0.15436582  0.28974518]\n",
      " [-0.39376952  0.05080104]\n",
      " [-0.41735106 -0.02287338]\n",
      " [ 0.30572896  0.09048885]\n",
      " [-0.30668347  0.00835233]\n",
      " [ 0.07554066  0.54977581]\n",
      " [-0.32613263 -0.20716433]\n",
      " [-0.36861022 -0.24902536]\n",
      " [-0.29669651  0.38022942]]\n"
     ]
    }
   ],
   "source": [
    "# 分散説明率のグラフから主成分を2つとする\n",
    "W = np.hstack((eigen_pairs[0][1][:, np.newaxis], eigen_pairs[1][1][:, np.newaxis]))\n",
    "print('Matrix W:\\n', W)"
   ]
  },
  {
   "cell_type": "markdown",
   "metadata": {},
   "source": [
    "### 射影行列Wを使ってd次元の入力データセットXを変換し、新しいk次元の特徴部分空間を取得する"
   ]
  },
  {
   "cell_type": "code",
   "execution_count": 8,
   "metadata": {},
   "outputs": [
    {
     "name": "stdout",
     "output_type": "stream",
     "text": [
      "変換前のデータセット（samples: 124, features: 13）\n",
      "変換後のデータセット（samples: 124, features: 2）\n"
     ]
    }
   ],
   "source": [
    "print('変換前のデータセット（samples: {}, features: {}）'.format(*X_train.shape))\n",
    "\n",
    "# 線形変換する\n",
    "X_train_pca = np.dot(X_train, W)\n",
    "print('変換後のデータセット（samples: {}, features: {}）'.format(*X_train_pca.shape))"
   ]
  },
  {
   "cell_type": "markdown",
   "metadata": {},
   "source": [
    "### 結果を可視化する"
   ]
  },
  {
   "cell_type": "code",
   "execution_count": 9,
   "metadata": {},
   "outputs": [
    {
     "data": {
      "image/png": "[encoded data removed]",
      "text/plain": [
       "<matplotlib.figure.Figure at 0x201882ef588>"
      ]
     },
     "metadata": {
      "needs_background": "light"
     },
     "output_type": "display_data"
    }
   ],
   "source": [
    "colors = ['r', 'b', 'g']\n",
    "markers = ['s', 'x', 'o']\n",
    "plt.scatter(X_train_pca[:, 0], X_train_pca[:, 1])\n",
    "plt.xlabel('Principle Component 1')\n",
    "plt.ylabel('Principle Component 2')\n",
    "plt.tight_layout()\n",
    "plt.show()"
   ]
  }
 ],
 "metadata": {
  "kernelspec": {
   "display_name": "Python 3",
   "language": "python",
   "name": "python3"
  },
  "language_info": {
   "codemirror_mode": {
    "name": "ipython",
    "version": 3
   },
   "file_extension": ".py",
   "mimetype": "text/x-python",
   "name": "python",
   "nbconvert_exporter": "python",
   "pygments_lexer": "ipython3",
   "version": "3.6.4"
  }
 },
 "nbformat": 4,
 "nbformat_minor": 2
}
