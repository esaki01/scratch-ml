{
 "cells": [
  {
   "cell_type": "code",
   "execution_count": 1,
   "metadata": {},
   "outputs": [
    {
     "name": "stderr",
     "output_type": "stream",
     "text": [
      "/Users/esaki01/.local/share/virtualenvs/ml-notebooks-rAvDjhvL/lib/python3.7/site-packages/tensorflow/python/framework/dtypes.py:516: FutureWarning: Passing (type, 1) or '1type' as a synonym of type is deprecated; in a future version of numpy, it will be understood as (type, (1,)) / '(1,)type'.\n",
      "  _np_qint8 = np.dtype([(\"qint8\", np.int8, 1)])\n",
      "/Users/esaki01/.local/share/virtualenvs/ml-notebooks-rAvDjhvL/lib/python3.7/site-packages/tensorflow/python/framework/dtypes.py:517: FutureWarning: Passing (type, 1) or '1type' as a synonym of type is deprecated; in a future version of numpy, it will be understood as (type, (1,)) / '(1,)type'.\n",
      "  _np_quint8 = np.dtype([(\"quint8\", np.uint8, 1)])\n",
      "/Users/esaki01/.local/share/virtualenvs/ml-notebooks-rAvDjhvL/lib/python3.7/site-packages/tensorflow/python/framework/dtypes.py:518: FutureWarning: Passing (type, 1) or '1type' as a synonym of type is deprecated; in a future version of numpy, it will be understood as (type, (1,)) / '(1,)type'.\n",
      "  _np_qint16 = np.dtype([(\"qint16\", np.int16, 1)])\n",
      "/Users/esaki01/.local/share/virtualenvs/ml-notebooks-rAvDjhvL/lib/python3.7/site-packages/tensorflow/python/framework/dtypes.py:519: FutureWarning: Passing (type, 1) or '1type' as a synonym of type is deprecated; in a future version of numpy, it will be understood as (type, (1,)) / '(1,)type'.\n",
      "  _np_quint16 = np.dtype([(\"quint16\", np.uint16, 1)])\n",
      "/Users/esaki01/.local/share/virtualenvs/ml-notebooks-rAvDjhvL/lib/python3.7/site-packages/tensorflow/python/framework/dtypes.py:520: FutureWarning: Passing (type, 1) or '1type' as a synonym of type is deprecated; in a future version of numpy, it will be understood as (type, (1,)) / '(1,)type'.\n",
      "  _np_qint32 = np.dtype([(\"qint32\", np.int32, 1)])\n",
      "/Users/esaki01/.local/share/virtualenvs/ml-notebooks-rAvDjhvL/lib/python3.7/site-packages/tensorflow/python/framework/dtypes.py:525: FutureWarning: Passing (type, 1) or '1type' as a synonym of type is deprecated; in a future version of numpy, it will be understood as (type, (1,)) / '(1,)type'.\n",
      "  np_resource = np.dtype([(\"resource\", np.ubyte, 1)])\n",
      "/Users/esaki01/.local/share/virtualenvs/ml-notebooks-rAvDjhvL/lib/python3.7/site-packages/tensorboard/compat/tensorflow_stub/dtypes.py:541: FutureWarning: Passing (type, 1) or '1type' as a synonym of type is deprecated; in a future version of numpy, it will be understood as (type, (1,)) / '(1,)type'.\n",
      "  _np_qint8 = np.dtype([(\"qint8\", np.int8, 1)])\n",
      "/Users/esaki01/.local/share/virtualenvs/ml-notebooks-rAvDjhvL/lib/python3.7/site-packages/tensorboard/compat/tensorflow_stub/dtypes.py:542: FutureWarning: Passing (type, 1) or '1type' as a synonym of type is deprecated; in a future version of numpy, it will be understood as (type, (1,)) / '(1,)type'.\n",
      "  _np_quint8 = np.dtype([(\"quint8\", np.uint8, 1)])\n",
      "/Users/esaki01/.local/share/virtualenvs/ml-notebooks-rAvDjhvL/lib/python3.7/site-packages/tensorboard/compat/tensorflow_stub/dtypes.py:543: FutureWarning: Passing (type, 1) or '1type' as a synonym of type is deprecated; in a future version of numpy, it will be understood as (type, (1,)) / '(1,)type'.\n",
      "  _np_qint16 = np.dtype([(\"qint16\", np.int16, 1)])\n",
      "/Users/esaki01/.local/share/virtualenvs/ml-notebooks-rAvDjhvL/lib/python3.7/site-packages/tensorboard/compat/tensorflow_stub/dtypes.py:544: FutureWarning: Passing (type, 1) or '1type' as a synonym of type is deprecated; in a future version of numpy, it will be understood as (type, (1,)) / '(1,)type'.\n",
      "  _np_quint16 = np.dtype([(\"quint16\", np.uint16, 1)])\n",
      "/Users/esaki01/.local/share/virtualenvs/ml-notebooks-rAvDjhvL/lib/python3.7/site-packages/tensorboard/compat/tensorflow_stub/dtypes.py:545: FutureWarning: Passing (type, 1) or '1type' as a synonym of type is deprecated; in a future version of numpy, it will be understood as (type, (1,)) / '(1,)type'.\n",
      "  _np_qint32 = np.dtype([(\"qint32\", np.int32, 1)])\n",
      "/Users/esaki01/.local/share/virtualenvs/ml-notebooks-rAvDjhvL/lib/python3.7/site-packages/tensorboard/compat/tensorflow_stub/dtypes.py:550: FutureWarning: Passing (type, 1) or '1type' as a synonym of type is deprecated; in a future version of numpy, it will be understood as (type, (1,)) / '(1,)type'.\n",
      "  np_resource = np.dtype([(\"resource\", np.ubyte, 1)])\n"
     ]
    },
    {
     "data": {
      "text/html": [
       "<div>\n",
       "<style scoped>\n",
       "    .dataframe tbody tr th:only-of-type {\n",
       "        vertical-align: middle;\n",
       "    }\n",
       "\n",
       "    .dataframe tbody tr th {\n",
       "        vertical-align: top;\n",
       "    }\n",
       "\n",
       "    .dataframe thead th {\n",
       "        text-align: right;\n",
       "    }\n",
       "</style>\n",
       "<table border=\"1\" class=\"dataframe\">\n",
       "  <thead>\n",
       "    <tr style=\"text-align: right;\">\n",
       "      <th></th>\n",
       "      <th>Class</th>\n",
       "      <th>Alcohol</th>\n",
       "      <th>Ash</th>\n",
       "      <th>Alcalinity of ash</th>\n",
       "      <th>Magnesium</th>\n",
       "      <th>Total phenols</th>\n",
       "      <th>Flavanoids</th>\n",
       "      <th>Nonflavanoid phenols</th>\n",
       "      <th>Color intensity</th>\n",
       "      <th>Hue</th>\n",
       "      <th>Proline</th>\n",
       "    </tr>\n",
       "  </thead>\n",
       "  <tbody>\n",
       "    <tr>\n",
       "      <th>0</th>\n",
       "      <td>1</td>\n",
       "      <td>14.23</td>\n",
       "      <td>2.43</td>\n",
       "      <td>15.6</td>\n",
       "      <td>127</td>\n",
       "      <td>2.80</td>\n",
       "      <td>3.06</td>\n",
       "      <td>0.28</td>\n",
       "      <td>5.64</td>\n",
       "      <td>1.04</td>\n",
       "      <td>1065</td>\n",
       "    </tr>\n",
       "    <tr>\n",
       "      <th>1</th>\n",
       "      <td>1</td>\n",
       "      <td>13.20</td>\n",
       "      <td>2.14</td>\n",
       "      <td>11.2</td>\n",
       "      <td>100</td>\n",
       "      <td>2.65</td>\n",
       "      <td>2.76</td>\n",
       "      <td>0.26</td>\n",
       "      <td>4.38</td>\n",
       "      <td>1.05</td>\n",
       "      <td>1050</td>\n",
       "    </tr>\n",
       "    <tr>\n",
       "      <th>2</th>\n",
       "      <td>1</td>\n",
       "      <td>13.16</td>\n",
       "      <td>2.67</td>\n",
       "      <td>18.6</td>\n",
       "      <td>101</td>\n",
       "      <td>2.80</td>\n",
       "      <td>3.24</td>\n",
       "      <td>0.30</td>\n",
       "      <td>5.68</td>\n",
       "      <td>1.03</td>\n",
       "      <td>1185</td>\n",
       "    </tr>\n",
       "  </tbody>\n",
       "</table>\n",
       "</div>"
      ],
      "text/plain": [
       "   Class  Alcohol   Ash  Alcalinity of ash  Magnesium  Total phenols  \\\n",
       "0      1    14.23  2.43               15.6        127           2.80   \n",
       "1      1    13.20  2.14               11.2        100           2.65   \n",
       "2      1    13.16  2.67               18.6        101           2.80   \n",
       "\n",
       "   Flavanoids  Nonflavanoid phenols  Color intensity   Hue  Proline  \n",
       "0        3.06                  0.28             5.64  1.04     1065  \n",
       "1        2.76                  0.26             4.38  1.05     1050  \n",
       "2        3.24                  0.30             5.68  1.03     1185  "
      ]
     },
     "execution_count": 1,
     "metadata": {},
     "output_type": "execute_result"
    }
   ],
   "source": [
    "import tensorflow as tf\n",
    "import numpy as np\n",
    "import pandas as pd\n",
    "import matplotlib.pyplot as plt\n",
    "from pathlib import Path\n",
    "\n",
    "root_pasth = str(Path('__file__').resolve().parent.parent.parent.parent.parent)\n",
    "\n",
    "# データの読み込み\n",
    "df = pd.read_csv(f'{root_pasth}/datasets/wine_class.csv')\n",
    "\n",
    "# データの表示（先頭３件）\n",
    "df.head(3)"
   ]
  },
  {
   "cell_type": "code",
   "execution_count": 2,
   "metadata": {},
   "outputs": [
    {
     "data": {
      "text/html": [
       "<div>\n",
       "<style scoped>\n",
       "    .dataframe tbody tr th:only-of-type {\n",
       "        vertical-align: middle;\n",
       "    }\n",
       "\n",
       "    .dataframe tbody tr th {\n",
       "        vertical-align: top;\n",
       "    }\n",
       "\n",
       "    .dataframe thead th {\n",
       "        text-align: right;\n",
       "    }\n",
       "</style>\n",
       "<table border=\"1\" class=\"dataframe\">\n",
       "  <thead>\n",
       "    <tr style=\"text-align: right;\">\n",
       "      <th></th>\n",
       "      <th>Alcohol</th>\n",
       "      <th>Ash</th>\n",
       "      <th>Alcalinity of ash</th>\n",
       "      <th>Magnesium</th>\n",
       "      <th>Total phenols</th>\n",
       "      <th>Flavanoids</th>\n",
       "      <th>Nonflavanoid phenols</th>\n",
       "      <th>Color intensity</th>\n",
       "      <th>Hue</th>\n",
       "      <th>Proline</th>\n",
       "    </tr>\n",
       "  </thead>\n",
       "  <tbody>\n",
       "    <tr>\n",
       "      <th>0</th>\n",
       "      <td>14.23</td>\n",
       "      <td>2.43</td>\n",
       "      <td>15.6</td>\n",
       "      <td>127</td>\n",
       "      <td>2.80</td>\n",
       "      <td>3.06</td>\n",
       "      <td>0.28</td>\n",
       "      <td>5.64</td>\n",
       "      <td>1.04</td>\n",
       "      <td>1065</td>\n",
       "    </tr>\n",
       "    <tr>\n",
       "      <th>1</th>\n",
       "      <td>13.20</td>\n",
       "      <td>2.14</td>\n",
       "      <td>11.2</td>\n",
       "      <td>100</td>\n",
       "      <td>2.65</td>\n",
       "      <td>2.76</td>\n",
       "      <td>0.26</td>\n",
       "      <td>4.38</td>\n",
       "      <td>1.05</td>\n",
       "      <td>1050</td>\n",
       "    </tr>\n",
       "    <tr>\n",
       "      <th>2</th>\n",
       "      <td>13.16</td>\n",
       "      <td>2.67</td>\n",
       "      <td>18.6</td>\n",
       "      <td>101</td>\n",
       "      <td>2.80</td>\n",
       "      <td>3.24</td>\n",
       "      <td>0.30</td>\n",
       "      <td>5.68</td>\n",
       "      <td>1.03</td>\n",
       "      <td>1185</td>\n",
       "    </tr>\n",
       "  </tbody>\n",
       "</table>\n",
       "</div>"
      ],
      "text/plain": [
       "   Alcohol   Ash  Alcalinity of ash  Magnesium  Total phenols  Flavanoids  \\\n",
       "0    14.23  2.43               15.6        127           2.80        3.06   \n",
       "1    13.20  2.14               11.2        100           2.65        2.76   \n",
       "2    13.16  2.67               18.6        101           2.80        3.24   \n",
       "\n",
       "   Nonflavanoid phenols  Color intensity   Hue  Proline  \n",
       "0                  0.28             5.64  1.04     1065  \n",
       "1                  0.26             4.38  1.05     1050  \n",
       "2                  0.30             5.68  1.03     1185  "
      ]
     },
     "execution_count": 2,
     "metadata": {},
     "output_type": "execute_result"
    }
   ],
   "source": [
    "# 目的変数\n",
    "t = df['Class']\n",
    "\n",
    "# 入力変数\n",
    "x = df.drop('Class', axis=1)\n",
    "\n",
    "x.head(3)"
   ]
  },
  {
   "cell_type": "code",
   "execution_count": 3,
   "metadata": {},
   "outputs": [
    {
     "data": {
      "text/plain": [
       "(178, 10)"
      ]
     },
     "execution_count": 3,
     "metadata": {},
     "output_type": "execute_result"
    }
   ],
   "source": [
    "# 形の確認\n",
    "x.shape"
   ]
  },
  {
   "cell_type": "code",
   "execution_count": 4,
   "metadata": {},
   "outputs": [
    {
     "data": {
      "text/plain": [
       "pandas.core.frame.DataFrame"
      ]
     },
     "execution_count": 4,
     "metadata": {},
     "output_type": "execute_result"
    }
   ],
   "source": [
    "type(x)"
   ]
  },
  {
   "cell_type": "code",
   "execution_count": 5,
   "metadata": {},
   "outputs": [
    {
     "data": {
      "text/plain": [
       "numpy.ndarray"
      ]
     },
     "execution_count": 5,
     "metadata": {},
     "output_type": "execute_result"
    }
   ],
   "source": [
    "type(x.values)"
   ]
  },
  {
   "cell_type": "code",
   "execution_count": 6,
   "metadata": {},
   "outputs": [
    {
     "data": {
      "text/plain": [
       "array([1, 2, 3])"
      ]
     },
     "execution_count": 6,
     "metadata": {},
     "output_type": "execute_result"
    }
   ],
   "source": [
    "# ユニークな値を確認\n",
    "np.unique(t)"
   ]
  },
  {
   "cell_type": "code",
   "execution_count": 7,
   "metadata": {},
   "outputs": [
    {
     "data": {
      "text/plain": [
       "(array([0, 0, 0, 0, 0, 0, 0, 0, 0, 0, 0, 0, 0, 0, 0, 0, 0, 0, 0, 0, 0, 0,\n",
       "        0, 0, 0, 0, 0, 0, 0, 0, 0, 0, 0, 0, 0, 0, 0, 0, 0, 0, 0, 0, 0, 0,\n",
       "        0, 0, 0, 0, 0, 0, 0, 0, 0, 0, 0, 0, 0, 0, 0, 1, 1, 1, 1, 1, 1, 1,\n",
       "        1, 1, 1, 1, 1, 1, 1, 1, 1, 1, 1, 1, 1, 1, 1, 1, 1, 1, 1, 1, 1, 1,\n",
       "        1, 1, 1, 1, 1, 1, 1, 1, 1, 1, 1, 1, 1, 1, 1, 1, 1, 1, 1, 1, 1, 1,\n",
       "        1, 1, 1, 1, 1, 1, 1, 1, 1, 1, 1, 1, 1, 1, 1, 1, 1, 1, 1, 1, 2, 2,\n",
       "        2, 2, 2, 2, 2, 2, 2, 2, 2, 2, 2, 2, 2, 2, 2, 2, 2, 2, 2, 2, 2, 2,\n",
       "        2, 2, 2, 2, 2, 2, 2, 2, 2, 2, 2, 2, 2, 2, 2, 2, 2, 2, 2, 2, 2, 2,\n",
       "        2, 2]),\n",
       " numpy.ndarray)"
      ]
     },
     "execution_count": 7,
     "metadata": {},
     "output_type": "execute_result"
    }
   ],
   "source": [
    "# ラベルを 0 から始める\n",
    "t = t.values - 1\n",
    "x = x.values\n",
    "\n",
    "t, type(t)"
   ]
  },
  {
   "cell_type": "code",
   "execution_count": 8,
   "metadata": {},
   "outputs": [
    {
     "data": {
      "text/plain": [
       "(array([[1.423e+01, 2.430e+00, 1.560e+01, ..., 5.640e+00, 1.040e+00,\n",
       "         1.065e+03],\n",
       "        [1.320e+01, 2.140e+00, 1.120e+01, ..., 4.380e+00, 1.050e+00,\n",
       "         1.050e+03],\n",
       "        [1.316e+01, 2.670e+00, 1.860e+01, ..., 5.680e+00, 1.030e+00,\n",
       "         1.185e+03],\n",
       "        ...,\n",
       "        [1.327e+01, 2.260e+00, 2.000e+01, ..., 1.020e+01, 5.900e-01,\n",
       "         8.350e+02],\n",
       "        [1.317e+01, 2.370e+00, 2.000e+01, ..., 9.300e+00, 6.000e-01,\n",
       "         8.400e+02],\n",
       "        [1.413e+01, 2.740e+00, 2.450e+01, ..., 9.200e+00, 6.100e-01,\n",
       "         5.600e+02]]),\n",
       " numpy.ndarray)"
      ]
     },
     "execution_count": 8,
     "metadata": {},
     "output_type": "execute_result"
    }
   ],
   "source": [
    "x, type(x)"
   ]
  },
  {
   "cell_type": "code",
   "execution_count": 9,
   "metadata": {},
   "outputs": [
    {
     "data": {
      "text/plain": [
       "((124, 10), dtype('float64'), (54, 10), dtype('float64'))"
      ]
     },
     "execution_count": 9,
     "metadata": {},
     "output_type": "execute_result"
    }
   ],
   "source": [
    "from sklearn.model_selection import train_test_split\n",
    "\n",
    "# 学習データとテストデータの分割\n",
    "x_train, x_test, t_train, t_test = train_test_split(x, t, train_size=0.7, random_state=0)\n",
    "\n",
    "x_train.shape, x_train.dtype, x_test.shape, x_test.dtype"
   ]
  },
  {
   "cell_type": "code",
   "execution_count": 10,
   "metadata": {},
   "outputs": [
    {
     "data": {
      "text/plain": [
       "((124,), dtype('int64'), (54,), dtype('int64'))"
      ]
     },
     "execution_count": 10,
     "metadata": {},
     "output_type": "execute_result"
    }
   ],
   "source": [
    "t_train.shape, t_train.dtype, t_test.shape, t_test.dtype"
   ]
  },
  {
   "cell_type": "code",
   "execution_count": 11,
   "metadata": {},
   "outputs": [],
   "source": [
    "# 32 bit にキャスト\n",
    "x_train = np.array(x_train, np.float32)\n",
    "x_test = np.array(x_train, np.float32)\n",
    "t_train = np.array(t_train, np.int32)\n",
    "t_test = np.array(t_train, np.int32)"
   ]
  },
  {
   "cell_type": "code",
   "execution_count": 12,
   "metadata": {},
   "outputs": [],
   "source": [
    "import os, random\n",
    "\n",
    "def reset_seed(seed=0):\n",
    "    os.environ['PYTHONHASHSEED'] = '0'\n",
    "    random.seed(seed) # random関数のシードを固定\n",
    "    np.random.seed(seed) # numpyのシードを固定\n",
    "    tf.random.set_random_seed(seed) # tensorflowのシードを固定"
   ]
  },
  {
   "cell_type": "code",
   "execution_count": 13,
   "metadata": {},
   "outputs": [
    {
     "name": "stdout",
     "output_type": "stream",
     "text": [
      "WARNING:tensorflow:From /Users/esaki01/.local/share/virtualenvs/ml-notebooks-rAvDjhvL/lib/python3.7/site-packages/tensorflow/python/ops/init_ops.py:1251: calling VarianceScaling.__init__ (from tensorflow.python.ops.init_ops) with dtype is deprecated and will be removed in a future version.\n",
      "Instructions for updating:\n",
      "Call initializer instance with the dtype argument instead of passing it to the constructor\n"
     ]
    }
   ],
   "source": [
    "from tensorflow.keras import models, layers\n",
    "\n",
    "# シードの固定\n",
    "reset_seed(0)\n",
    "\n",
    "# モデルの構築\n",
    "model = models.Sequential([\n",
    "    layers.Dense(units=10, activation='relu', input_shape=(10,)),\n",
    "    layers.Dense(units=3, activation='softmax')\n",
    "])\n",
    "\n",
    "# model = models.Sequential()\n",
    "# model.add(layers.Dense(units=10, activation='relu', input_shape=(10,)))\n",
    "# model.add(layers.Dense(units=3, activation='softmax'))"
   ]
  },
  {
   "cell_type": "code",
   "execution_count": 14,
   "metadata": {},
   "outputs": [],
   "source": [
    "# モデルのコンパイル\n",
    "model.compile(optimizer='sgd',\n",
    "               loss='sparse_categorical_crossentropy',\n",
    "               metrics=['accuracy'])\n",
    "\n",
    "# こちらでも同じ\n",
    "# model.compile(optimizer=tf.keras.optimizers.SGD(),\n",
    "#                loss=tf.keras.losses.SparseCategoricalCrossentropy(),\n",
    "#                metrics=[tf.keras.metrics.Accuracy()])"
   ]
  },
  {
   "cell_type": "code",
   "execution_count": 15,
   "metadata": {},
   "outputs": [
    {
     "name": "stdout",
     "output_type": "stream",
     "text": [
      "Train on 124 samples, validate on 124 samples\n",
      "Epoch 1/10\n",
      "124/124 [==============================] - 0s 693us/sample - loss: 162.3365 - acc: 0.3306 - val_loss: 1.0979 - val_acc: 0.3226\n",
      "Epoch 2/10\n",
      "124/124 [==============================] - 0s 221us/sample - loss: 1.0980 - acc: 0.3387 - val_loss: 1.0974 - val_acc: 0.3952\n",
      "Epoch 3/10\n",
      "124/124 [==============================] - 0s 151us/sample - loss: 1.0973 - acc: 0.3629 - val_loss: 1.0966 - val_acc: 0.3952\n",
      "Epoch 4/10\n",
      "124/124 [==============================] - 0s 215us/sample - loss: 1.0967 - acc: 0.3952 - val_loss: 1.0959 - val_acc: 0.3952\n",
      "Epoch 5/10\n",
      "124/124 [==============================] - 0s 246us/sample - loss: 1.0958 - acc: 0.3952 - val_loss: 1.0952 - val_acc: 0.3952\n",
      "Epoch 6/10\n",
      "124/124 [==============================] - 0s 184us/sample - loss: 1.0952 - acc: 0.3952 - val_loss: 1.0948 - val_acc: 0.3952\n",
      "Epoch 7/10\n",
      "124/124 [==============================] - 0s 210us/sample - loss: 1.0948 - acc: 0.3952 - val_loss: 1.0943 - val_acc: 0.3952\n",
      "Epoch 8/10\n",
      "124/124 [==============================] - 0s 205us/sample - loss: 1.0945 - acc: 0.3952 - val_loss: 1.0938 - val_acc: 0.3952\n",
      "Epoch 9/10\n",
      "124/124 [==============================] - 0s 237us/sample - loss: 1.0938 - acc: 0.3952 - val_loss: 1.0933 - val_acc: 0.3952\n",
      "Epoch 10/10\n",
      "124/124 [==============================] - 0s 197us/sample - loss: 1.0935 - acc: 0.3952 - val_loss: 1.0931 - val_acc: 0.3952\n"
     ]
    }
   ],
   "source": [
    "# モデルの学習\n",
    "history = model.fit(x_train, t_train, batch_size=10, epochs=10, validation_data=(x_test, t_test))"
   ]
  },
  {
   "cell_type": "code",
   "execution_count": 16,
   "metadata": {},
   "outputs": [
    {
     "data": {
      "text/plain": [
       "{'loss': [162.33649122714996,\n",
       "  1.0980117205650575,\n",
       "  1.097321864097349,\n",
       "  1.096653280719634,\n",
       "  1.0957879885550468,\n",
       "  1.0952091120904492,\n",
       "  1.094848354016581,\n",
       "  1.0944863673179381,\n",
       "  1.0937923442932866,\n",
       "  1.0935336312940043],\n",
       " 'acc': [0.33064517,\n",
       "  0.33870968,\n",
       "  0.36290324,\n",
       "  0.3951613,\n",
       "  0.3951613,\n",
       "  0.3951613,\n",
       "  0.3951613,\n",
       "  0.3951613,\n",
       "  0.3951613,\n",
       "  0.3951613],\n",
       " 'val_loss': [1.0979123615449475,\n",
       "  1.0973679000331509,\n",
       "  1.0966001460629125,\n",
       "  1.0958509618236172,\n",
       "  1.0952109675253592,\n",
       "  1.0947754940678995,\n",
       "  1.09432694988866,\n",
       "  1.0938365978579367,\n",
       "  1.0933478436162394,\n",
       "  1.0930784633082729],\n",
       " 'val_acc': [0.32258064,\n",
       "  0.3951613,\n",
       "  0.3951613,\n",
       "  0.3951613,\n",
       "  0.3951613,\n",
       "  0.3951613,\n",
       "  0.3951613,\n",
       "  0.3951613,\n",
       "  0.3951613,\n",
       "  0.3951613]}"
      ]
     },
     "execution_count": 16,
     "metadata": {},
     "output_type": "execute_result"
    }
   ],
   "source": [
    "# 学習過程\n",
    "history.history"
   ]
  },
  {
   "cell_type": "code",
   "execution_count": 17,
   "metadata": {},
   "outputs": [
    {
     "data": {
      "text/html": [
       "<div>\n",
       "<style scoped>\n",
       "    .dataframe tbody tr th:only-of-type {\n",
       "        vertical-align: middle;\n",
       "    }\n",
       "\n",
       "    .dataframe tbody tr th {\n",
       "        vertical-align: top;\n",
       "    }\n",
       "\n",
       "    .dataframe thead th {\n",
       "        text-align: right;\n",
       "    }\n",
       "</style>\n",
       "<table border=\"1\" class=\"dataframe\">\n",
       "  <thead>\n",
       "    <tr style=\"text-align: right;\">\n",
       "      <th></th>\n",
       "      <th>loss</th>\n",
       "      <th>acc</th>\n",
       "      <th>val_loss</th>\n",
       "      <th>val_acc</th>\n",
       "    </tr>\n",
       "  </thead>\n",
       "  <tbody>\n",
       "    <tr>\n",
       "      <th>0</th>\n",
       "      <td>162.336491</td>\n",
       "      <td>0.330645</td>\n",
       "      <td>1.097912</td>\n",
       "      <td>0.322581</td>\n",
       "    </tr>\n",
       "    <tr>\n",
       "      <th>1</th>\n",
       "      <td>1.098012</td>\n",
       "      <td>0.338710</td>\n",
       "      <td>1.097368</td>\n",
       "      <td>0.395161</td>\n",
       "    </tr>\n",
       "    <tr>\n",
       "      <th>2</th>\n",
       "      <td>1.097322</td>\n",
       "      <td>0.362903</td>\n",
       "      <td>1.096600</td>\n",
       "      <td>0.395161</td>\n",
       "    </tr>\n",
       "    <tr>\n",
       "      <th>3</th>\n",
       "      <td>1.096653</td>\n",
       "      <td>0.395161</td>\n",
       "      <td>1.095851</td>\n",
       "      <td>0.395161</td>\n",
       "    </tr>\n",
       "    <tr>\n",
       "      <th>4</th>\n",
       "      <td>1.095788</td>\n",
       "      <td>0.395161</td>\n",
       "      <td>1.095211</td>\n",
       "      <td>0.395161</td>\n",
       "    </tr>\n",
       "  </tbody>\n",
       "</table>\n",
       "</div>"
      ],
      "text/plain": [
       "         loss       acc  val_loss   val_acc\n",
       "0  162.336491  0.330645  1.097912  0.322581\n",
       "1    1.098012  0.338710  1.097368  0.395161\n",
       "2    1.097322  0.362903  1.096600  0.395161\n",
       "3    1.096653  0.395161  1.095851  0.395161\n",
       "4    1.095788  0.395161  1.095211  0.395161"
      ]
     },
     "execution_count": 17,
     "metadata": {},
     "output_type": "execute_result"
    }
   ],
   "source": [
    "# Pandas 形式\n",
    "result = pd.DataFrame(history.history)\n",
    "result.head()"
   ]
  },
  {
   "cell_type": "code",
   "execution_count": 18,
   "metadata": {},
   "outputs": [
    {
     "data": {
      "image/png": "[encoded data removed]",
      "text/plain": [
       "<Figure size 432x288 with 1 Axes>"
      ]
     },
     "metadata": {
      "needs_background": "light"
     },
     "output_type": "display_data"
    }
   ],
   "source": [
    "# 目的関数の値\n",
    "result[['loss', 'val_loss']].plot();"
   ]
  },
  {
   "cell_type": "code",
   "execution_count": 19,
   "metadata": {},
   "outputs": [
    {
     "data": {
      "image/png": "[encoded data removed]",
      "text/plain": [
       "<Figure size 432x288 with 1 Axes>"
      ]
     },
     "metadata": {
      "needs_background": "light"
     },
     "output_type": "display_data"
    }
   ],
   "source": [
    "# 正解率\n",
    "result[['acc', 'val_acc']].plot();"
   ]
  },
  {
   "cell_type": "code",
   "execution_count": 20,
   "metadata": {},
   "outputs": [
    {
     "name": "stdout",
     "output_type": "stream",
     "text": [
      "Train on 124 samples, validate on 124 samples\n",
      "Epoch 1/50\n",
      "124/124 [==============================] - 0s 1ms/sample - loss: 1.4762 - acc: 0.1210 - val_loss: 4.5440 - val_acc: 0.3952\n",
      "Epoch 2/50\n",
      "124/124 [==============================] - 0s 275us/sample - loss: 1.2940 - acc: 0.1935 - val_loss: 3.0850 - val_acc: 0.2661\n",
      "Epoch 3/50\n",
      "124/124 [==============================] - 0s 198us/sample - loss: 1.1748 - acc: 0.2339 - val_loss: 2.5215 - val_acc: 0.1613\n",
      "Epoch 4/50\n",
      "124/124 [==============================] - 0s 206us/sample - loss: 1.0700 - acc: 0.3790 - val_loss: 2.2073 - val_acc: 0.1855\n",
      "Epoch 5/50\n",
      "124/124 [==============================] - 0s 270us/sample - loss: 0.9755 - acc: 0.4758 - val_loss: 1.9377 - val_acc: 0.2581\n",
      "Epoch 6/50\n",
      "124/124 [==============================] - 0s 235us/sample - loss: 0.8984 - acc: 0.6048 - val_loss: 1.7364 - val_acc: 0.2742\n",
      "Epoch 7/50\n",
      "124/124 [==============================] - 0s 255us/sample - loss: 0.8409 - acc: 0.6935 - val_loss: 1.5350 - val_acc: 0.2742\n",
      "Epoch 8/50\n",
      "124/124 [==============================] - 0s 282us/sample - loss: 0.7880 - acc: 0.7984 - val_loss: 1.3647 - val_acc: 0.2903\n",
      "Epoch 9/50\n",
      "124/124 [==============================] - 0s 186us/sample - loss: 0.6958 - acc: 0.8468 - val_loss: 1.2089 - val_acc: 0.3306\n",
      "Epoch 10/50\n",
      "124/124 [==============================] - 0s 269us/sample - loss: 0.7005 - acc: 0.7661 - val_loss: 1.0875 - val_acc: 0.3629\n",
      "Epoch 11/50\n",
      "124/124 [==============================] - 0s 204us/sample - loss: 0.6447 - acc: 0.8387 - val_loss: 0.9581 - val_acc: 0.4677\n",
      "Epoch 12/50\n",
      "124/124 [==============================] - 0s 327us/sample - loss: 0.6205 - acc: 0.8629 - val_loss: 0.8470 - val_acc: 0.5726\n",
      "Epoch 13/50\n",
      "124/124 [==============================] - 0s 233us/sample - loss: 0.5517 - acc: 0.8871 - val_loss: 0.7487 - val_acc: 0.6935\n",
      "Epoch 14/50\n",
      "124/124 [==============================] - 0s 224us/sample - loss: 0.5480 - acc: 0.8468 - val_loss: 0.6639 - val_acc: 0.7984\n",
      "Epoch 15/50\n",
      "124/124 [==============================] - 0s 220us/sample - loss: 0.4837 - acc: 0.9274 - val_loss: 0.5929 - val_acc: 0.8548\n",
      "Epoch 16/50\n",
      "124/124 [==============================] - 0s 196us/sample - loss: 0.4805 - acc: 0.8871 - val_loss: 0.5329 - val_acc: 0.8710\n",
      "Epoch 17/50\n",
      "124/124 [==============================] - 0s 312us/sample - loss: 0.4390 - acc: 0.9032 - val_loss: 0.4791 - val_acc: 0.8871\n",
      "Epoch 18/50\n",
      "124/124 [==============================] - 0s 195us/sample - loss: 0.3773 - acc: 0.9516 - val_loss: 0.4332 - val_acc: 0.9032\n",
      "Epoch 19/50\n",
      "124/124 [==============================] - 0s 299us/sample - loss: 0.3982 - acc: 0.8952 - val_loss: 0.3934 - val_acc: 0.9113\n",
      "Epoch 20/50\n",
      "124/124 [==============================] - 0s 291us/sample - loss: 0.4153 - acc: 0.8952 - val_loss: 0.3614 - val_acc: 0.9194\n",
      "Epoch 21/50\n",
      "124/124 [==============================] - 0s 240us/sample - loss: 0.3249 - acc: 0.9435 - val_loss: 0.3311 - val_acc: 0.9435\n",
      "Epoch 22/50\n",
      "124/124 [==============================] - 0s 218us/sample - loss: 0.3671 - acc: 0.9113 - val_loss: 0.3067 - val_acc: 0.9516\n",
      "Epoch 23/50\n",
      "124/124 [==============================] - 0s 299us/sample - loss: 0.3373 - acc: 0.9113 - val_loss: 0.2844 - val_acc: 0.9597\n",
      "Epoch 24/50\n",
      "124/124 [==============================] - 0s 210us/sample - loss: 0.3181 - acc: 0.9032 - val_loss: 0.2644 - val_acc: 0.9758\n",
      "Epoch 25/50\n",
      "124/124 [==============================] - 0s 282us/sample - loss: 0.2687 - acc: 0.9677 - val_loss: 0.2466 - val_acc: 0.9839\n",
      "Epoch 26/50\n",
      "124/124 [==============================] - 0s 322us/sample - loss: 0.3008 - acc: 0.9194 - val_loss: 0.2335 - val_acc: 0.9839\n",
      "Epoch 27/50\n",
      "124/124 [==============================] - 0s 201us/sample - loss: 0.2793 - acc: 0.9435 - val_loss: 0.2191 - val_acc: 0.9839\n",
      "Epoch 28/50\n",
      "124/124 [==============================] - 0s 325us/sample - loss: 0.2454 - acc: 0.9435 - val_loss: 0.2066 - val_acc: 0.9919\n",
      "Epoch 29/50\n",
      "124/124 [==============================] - 0s 205us/sample - loss: 0.3408 - acc: 0.8871 - val_loss: 0.1969 - val_acc: 0.9919\n",
      "Epoch 30/50\n",
      "124/124 [==============================] - 0s 207us/sample - loss: 0.2650 - acc: 0.9113 - val_loss: 0.1883 - val_acc: 0.9919\n",
      "Epoch 31/50\n",
      "124/124 [==============================] - 0s 291us/sample - loss: 0.2103 - acc: 0.9677 - val_loss: 0.1789 - val_acc: 0.9919\n",
      "Epoch 32/50\n",
      "124/124 [==============================] - 0s 255us/sample - loss: 0.2473 - acc: 0.9274 - val_loss: 0.1717 - val_acc: 0.9919\n",
      "Epoch 33/50\n",
      "124/124 [==============================] - 0s 208us/sample - loss: 0.1989 - acc: 0.9677 - val_loss: 0.1644 - val_acc: 0.9919\n",
      "Epoch 34/50\n",
      "124/124 [==============================] - 0s 197us/sample - loss: 0.2613 - acc: 0.9032 - val_loss: 0.1577 - val_acc: 0.9919\n",
      "Epoch 35/50\n",
      "124/124 [==============================] - 0s 276us/sample - loss: 0.2763 - acc: 0.8952 - val_loss: 0.1531 - val_acc: 0.9919\n",
      "Epoch 36/50\n",
      "124/124 [==============================] - 0s 204us/sample - loss: 0.2252 - acc: 0.9516 - val_loss: 0.1472 - val_acc: 0.9839\n",
      "Epoch 37/50\n",
      "124/124 [==============================] - 0s 306us/sample - loss: 0.2382 - acc: 0.9194 - val_loss: 0.1427 - val_acc: 0.9919\n",
      "Epoch 38/50\n",
      "124/124 [==============================] - 0s 211us/sample - loss: 0.2111 - acc: 0.9355 - val_loss: 0.1384 - val_acc: 0.9919\n",
      "Epoch 39/50\n",
      "124/124 [==============================] - 0s 312us/sample - loss: 0.1976 - acc: 0.9597 - val_loss: 0.1342 - val_acc: 0.9839\n",
      "Epoch 40/50\n",
      "124/124 [==============================] - 0s 201us/sample - loss: 0.2010 - acc: 0.9435 - val_loss: 0.1304 - val_acc: 0.9919\n",
      "Epoch 41/50\n",
      "124/124 [==============================] - 0s 231us/sample - loss: 0.1753 - acc: 0.9355 - val_loss: 0.1270 - val_acc: 0.9839\n",
      "Epoch 42/50\n",
      "124/124 [==============================] - 0s 283us/sample - loss: 0.2227 - acc: 0.9355 - val_loss: 0.1237 - val_acc: 0.9839\n",
      "Epoch 43/50\n",
      "124/124 [==============================] - 0s 210us/sample - loss: 0.2298 - acc: 0.9194 - val_loss: 0.1209 - val_acc: 0.9839\n",
      "Epoch 44/50\n",
      "124/124 [==============================] - 0s 261us/sample - loss: 0.1843 - acc: 0.9274 - val_loss: 0.1183 - val_acc: 0.9839\n",
      "Epoch 45/50\n",
      "124/124 [==============================] - 0s 285us/sample - loss: 0.1600 - acc: 0.9758 - val_loss: 0.1153 - val_acc: 0.9839\n",
      "Epoch 46/50\n",
      "124/124 [==============================] - 0s 189us/sample - loss: 0.2039 - acc: 0.9274 - val_loss: 0.1128 - val_acc: 0.9839\n",
      "Epoch 47/50\n",
      "124/124 [==============================] - 0s 305us/sample - loss: 0.2071 - acc: 0.9274 - val_loss: 0.1106 - val_acc: 0.9919\n",
      "Epoch 48/50\n",
      "124/124 [==============================] - 0s 191us/sample - loss: 0.1621 - acc: 0.9435 - val_loss: 0.1082 - val_acc: 0.9919\n",
      "Epoch 49/50\n",
      "124/124 [==============================] - 0s 262us/sample - loss: 0.2224 - acc: 0.9274 - val_loss: 0.1058 - val_acc: 0.9919\n",
      "Epoch 50/50\n",
      "124/124 [==============================] - 0s 206us/sample - loss: 0.2420 - acc: 0.8871 - val_loss: 0.1036 - val_acc: 0.9839\n"
     ]
    }
   ],
   "source": [
    "# シードの固定\n",
    "reset_seed(0)\n",
    "\n",
    "# モデルの構築\n",
    "model = tf.keras.models.Sequential([\n",
    "    tf.keras.layers.BatchNormalization(input_shape=(10,)),\n",
    "    tf.keras.layers.Dense(10, activation='relu'),\n",
    "    tf.keras.layers.Dense(3, activation='softmax')\n",
    "])\n",
    "\n",
    "# モデルのコンパイル\n",
    "model.compile(optimizer='sgd',\n",
    "               loss='sparse_categorical_crossentropy',\n",
    "               metrics=['accuracy'])\n",
    "\n",
    "# モデルの学習\n",
    "history = model.fit(x_train, t_train,\n",
    "          batch_size=10,\n",
    "          epochs=50,\n",
    "          validation_data=(x_test, t_test))"
   ]
  },
  {
   "cell_type": "code",
   "execution_count": 21,
   "metadata": {},
   "outputs": [
    {
     "data": {
      "image/png": "[encoded data removed]",
      "text/plain": [
       "<Figure size 432x288 with 1 Axes>"
      ]
     },
     "metadata": {
      "needs_background": "light"
     },
     "output_type": "display_data"
    }
   ],
   "source": [
    "# 正解率と損失を Pandas の形式に変換\n",
    "result_batchnorm = pd.DataFrame(history.history)\n",
    "\n",
    "# 目的関数の値\n",
    "result_batchnorm[['loss', 'val_loss']].plot();"
   ]
  },
  {
   "cell_type": "code",
   "execution_count": 22,
   "metadata": {},
   "outputs": [
    {
     "data": {
      "image/png": "[encoded data removed]",
      "text/plain": [
       "<Figure size 432x288 with 1 Axes>"
      ]
     },
     "metadata": {
      "needs_background": "light"
     },
     "output_type": "display_data"
    }
   ],
   "source": [
    "# 正解率\n",
    "result_batchnorm[['acc', 'val_acc']].plot();"
   ]
  },
  {
   "cell_type": "code",
   "execution_count": 23,
   "metadata": {},
   "outputs": [],
   "source": [
    "# モデルの保存\n",
    "model.save(filepath=f'{root_pasth}/models/wine_model.h5', save_format='h5')"
   ]
  },
  {
   "cell_type": "code",
   "execution_count": 24,
   "metadata": {},
   "outputs": [
    {
     "name": "stdout",
     "output_type": "stream",
     "text": [
      "WARNING:tensorflow:From /Users/esaki01/.local/share/virtualenvs/ml-notebooks-rAvDjhvL/lib/python3.7/site-packages/tensorflow/python/ops/init_ops.py:97: calling Zeros.__init__ (from tensorflow.python.ops.init_ops) with dtype is deprecated and will be removed in a future version.\n",
      "Instructions for updating:\n",
      "Call initializer instance with the dtype argument instead of passing it to the constructor\n",
      "WARNING:tensorflow:From /Users/esaki01/.local/share/virtualenvs/ml-notebooks-rAvDjhvL/lib/python3.7/site-packages/tensorflow/python/ops/init_ops.py:97: calling Ones.__init__ (from tensorflow.python.ops.init_ops) with dtype is deprecated and will be removed in a future version.\n",
      "Instructions for updating:\n",
      "Call initializer instance with the dtype argument instead of passing it to the constructor\n",
      "WARNING:tensorflow:From /Users/esaki01/.local/share/virtualenvs/ml-notebooks-rAvDjhvL/lib/python3.7/site-packages/tensorflow/python/ops/init_ops.py:97: calling GlorotUniform.__init__ (from tensorflow.python.ops.init_ops) with dtype is deprecated and will be removed in a future version.\n",
      "Instructions for updating:\n",
      "Call initializer instance with the dtype argument instead of passing it to the constructor\n"
     ]
    }
   ],
   "source": [
    "# モデルの読み込み\n",
    "loaded_model = tf.keras.models.load_model(f'{root_pasth}/models/wine_model.h5')"
   ]
  },
  {
   "cell_type": "code",
   "execution_count": 25,
   "metadata": {},
   "outputs": [
    {
     "data": {
      "text/plain": [
       "(10,)"
      ]
     },
     "execution_count": 25,
     "metadata": {},
     "output_type": "execute_result"
    }
   ],
   "source": [
    "# データの準備\n",
    "sample = x_train[0]\n",
    "sample.shape"
   ]
  },
  {
   "cell_type": "code",
   "execution_count": 26,
   "metadata": {},
   "outputs": [
    {
     "data": {
      "text/plain": [
       "(1, 10)"
      ]
     },
     "execution_count": 26,
     "metadata": {},
     "output_type": "execute_result"
    }
   ],
   "source": [
    "# 形を変換\n",
    "sample = sample.reshape(1, 10)\n",
    "sample.shape"
   ]
  },
  {
   "cell_type": "code",
   "execution_count": 27,
   "metadata": {},
   "outputs": [
    {
     "data": {
      "text/plain": [
       "array([[0.93740547, 0.04037751, 0.02221712]], dtype=float32)"
      ]
     },
     "execution_count": 27,
     "metadata": {},
     "output_type": "execute_result"
    }
   ],
   "source": [
    "# 予測値の計算\n",
    "y = loaded_model.predict(sample)\n",
    "y"
   ]
  },
  {
   "cell_type": "code",
   "execution_count": 28,
   "metadata": {},
   "outputs": [
    {
     "data": {
      "text/plain": [
       "0"
      ]
     },
     "execution_count": 28,
     "metadata": {},
     "output_type": "execute_result"
    }
   ],
   "source": [
    "# 最も値の大きなラベルを取得\n",
    "np.argmax(y)"
   ]
  },
  {
   "cell_type": "code",
   "execution_count": 29,
   "metadata": {},
   "outputs": [
    {
     "data": {
      "text/plain": [
       "0"
      ]
     },
     "execution_count": 29,
     "metadata": {},
     "output_type": "execute_result"
    }
   ],
   "source": [
    "# 正解ラベル\n",
    "t_train[0]"
   ]
  },
  {
   "cell_type": "code",
   "execution_count": null,
   "metadata": {},
   "outputs": [],
   "source": []
  }
 ],
 "metadata": {
  "kernelspec": {
   "display_name": "Python 3",
   "language": "python",
   "name": "python3"
  },
  "language_info": {
   "codemirror_mode": {
    "name": "ipython",
    "version": 3
   },
   "file_extension": ".py",
   "mimetype": "text/x-python",
   "name": "python",
   "nbconvert_exporter": "python",
   "pygments_lexer": "ipython3",
   "version": "3.7.7"
  }
 },
 "nbformat": 4,
 "nbformat_minor": 4
}
